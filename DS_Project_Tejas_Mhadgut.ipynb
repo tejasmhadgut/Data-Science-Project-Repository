{
  "nbformat": 4,
  "nbformat_minor": 0,
  "metadata": {
    "colab": {
      "provenance": [],
      "authorship_tag": "ABX9TyNDYbcfGIY+QqvI+/E/SOBv",
      "include_colab_link": true
    },
    "kernelspec": {
      "name": "python3",
      "display_name": "Python 3"
    },
    "language_info": {
      "name": "python"
    }
  },
  "cells": [
    {
      "cell_type": "markdown",
      "metadata": {
        "id": "view-in-github",
        "colab_type": "text"
      },
      "source": [
        "<a href=\"https://colab.research.google.com/github/tejasmhadgut/Data-Science-Project-Repository/blob/main/DS_Project_Tejas_Mhadgut.ipynb\" target=\"_parent\"><img src=\"https://colab.research.google.com/assets/colab-badge.svg\" alt=\"Open In Colab\"/></a>"
      ]
    },
    {
      "cell_type": "code",
      "execution_count": 66,
      "metadata": {
        "id": "L-c5P_ee0YzM"
      },
      "outputs": [],
      "source": [
        "# Importing Libraries\n",
        "import pandas as pd\n",
        "import numpy as np\n",
        "from sklearn.datasets import fetch_california_housing\n",
        "import matplotlib.pyplot as plt\n",
        "import seaborn as sns\n",
        "from sklearn.ensemble import RandomForestClassifier\n",
        "from sklearn.model_selection import train_test_split\n",
        "from sklearn.model_selection import StratifiedShuffleSplit\n",
        "from sklearn.preprocessing import StandardScaler\n",
        "from sklearn.metrics import accuracy_score, precision_score, recall_score, f1_score\n",
        "from sklearn.linear_model import LogisticRegression\n",
        "from sklearn.decomposition import PCA\n",
        "from sklearn.model_selection import GridSearchCV\n",
        "from sklearn.semi_supervised import SelfTrainingClassifier\n",
        "from sklearn.tree import DecisionTreeClassifier\n",
        "from sklearn.ensemble import RandomForestClassifier\n",
        "from sklearn.svm import SVC\n",
        "from sklearn.metrics import confusion_matrix\n",
        "from scipy.stats import f_oneway\n",
        "import warnings"
      ]
    },
    {
      "cell_type": "code",
      "source": [
        "# Ignore all warnings\n",
        "warnings.filterwarnings('ignore')"
      ],
      "metadata": {
        "id": "m0x4YjW_Q-_p"
      },
      "execution_count": 67,
      "outputs": []
    },
    {
      "cell_type": "code",
      "source": [
        "# Importing California Housing Dataset\n",
        "data = fetch_california_housing()\n",
        "df = pd.DataFrame(data.data, columns=data.feature_names)\n"
      ],
      "metadata": {
        "id": "x6SUd2HR0ajP"
      },
      "execution_count": 68,
      "outputs": []
    },
    {
      "cell_type": "code",
      "source": [
        "df.head()"
      ],
      "metadata": {
        "colab": {
          "base_uri": "https://localhost:8080/",
          "height": 204
        },
        "id": "YP3BlpQL2S4w",
        "outputId": "a9b79304-dc01-42e6-f8b8-630074d4ca6a"
      },
      "execution_count": 69,
      "outputs": [
        {
          "output_type": "execute_result",
          "data": {
            "text/plain": [
              "   MedInc  HouseAge  AveRooms  AveBedrms  Population  AveOccup  Latitude  \\\n",
              "0  8.3252      41.0  6.984127   1.023810       322.0  2.555556     37.88   \n",
              "1  8.3014      21.0  6.238137   0.971880      2401.0  2.109842     37.86   \n",
              "2  7.2574      52.0  8.288136   1.073446       496.0  2.802260     37.85   \n",
              "3  5.6431      52.0  5.817352   1.073059       558.0  2.547945     37.85   \n",
              "4  3.8462      52.0  6.281853   1.081081       565.0  2.181467     37.85   \n",
              "\n",
              "   Longitude  \n",
              "0    -122.23  \n",
              "1    -122.22  \n",
              "2    -122.24  \n",
              "3    -122.25  \n",
              "4    -122.25  "
            ],
            "text/html": [
              "\n",
              "  <div id=\"df-a0cd157a-3a55-4cf2-9761-5ef30ee24623\" class=\"colab-df-container\">\n",
              "    <div>\n",
              "<style scoped>\n",
              "    .dataframe tbody tr th:only-of-type {\n",
              "        vertical-align: middle;\n",
              "    }\n",
              "\n",
              "    .dataframe tbody tr th {\n",
              "        vertical-align: top;\n",
              "    }\n",
              "\n",
              "    .dataframe thead th {\n",
              "        text-align: right;\n",
              "    }\n",
              "</style>\n",
              "<table border=\"1\" class=\"dataframe\">\n",
              "  <thead>\n",
              "    <tr style=\"text-align: right;\">\n",
              "      <th></th>\n",
              "      <th>MedInc</th>\n",
              "      <th>HouseAge</th>\n",
              "      <th>AveRooms</th>\n",
              "      <th>AveBedrms</th>\n",
              "      <th>Population</th>\n",
              "      <th>AveOccup</th>\n",
              "      <th>Latitude</th>\n",
              "      <th>Longitude</th>\n",
              "    </tr>\n",
              "  </thead>\n",
              "  <tbody>\n",
              "    <tr>\n",
              "      <th>0</th>\n",
              "      <td>8.3252</td>\n",
              "      <td>41.0</td>\n",
              "      <td>6.984127</td>\n",
              "      <td>1.023810</td>\n",
              "      <td>322.0</td>\n",
              "      <td>2.555556</td>\n",
              "      <td>37.88</td>\n",
              "      <td>-122.23</td>\n",
              "    </tr>\n",
              "    <tr>\n",
              "      <th>1</th>\n",
              "      <td>8.3014</td>\n",
              "      <td>21.0</td>\n",
              "      <td>6.238137</td>\n",
              "      <td>0.971880</td>\n",
              "      <td>2401.0</td>\n",
              "      <td>2.109842</td>\n",
              "      <td>37.86</td>\n",
              "      <td>-122.22</td>\n",
              "    </tr>\n",
              "    <tr>\n",
              "      <th>2</th>\n",
              "      <td>7.2574</td>\n",
              "      <td>52.0</td>\n",
              "      <td>8.288136</td>\n",
              "      <td>1.073446</td>\n",
              "      <td>496.0</td>\n",
              "      <td>2.802260</td>\n",
              "      <td>37.85</td>\n",
              "      <td>-122.24</td>\n",
              "    </tr>\n",
              "    <tr>\n",
              "      <th>3</th>\n",
              "      <td>5.6431</td>\n",
              "      <td>52.0</td>\n",
              "      <td>5.817352</td>\n",
              "      <td>1.073059</td>\n",
              "      <td>558.0</td>\n",
              "      <td>2.547945</td>\n",
              "      <td>37.85</td>\n",
              "      <td>-122.25</td>\n",
              "    </tr>\n",
              "    <tr>\n",
              "      <th>4</th>\n",
              "      <td>3.8462</td>\n",
              "      <td>52.0</td>\n",
              "      <td>6.281853</td>\n",
              "      <td>1.081081</td>\n",
              "      <td>565.0</td>\n",
              "      <td>2.181467</td>\n",
              "      <td>37.85</td>\n",
              "      <td>-122.25</td>\n",
              "    </tr>\n",
              "  </tbody>\n",
              "</table>\n",
              "</div>\n",
              "    <div class=\"colab-df-buttons\">\n",
              "\n",
              "  <div class=\"colab-df-container\">\n",
              "    <button class=\"colab-df-convert\" onclick=\"convertToInteractive('df-a0cd157a-3a55-4cf2-9761-5ef30ee24623')\"\n",
              "            title=\"Convert this dataframe to an interactive table.\"\n",
              "            style=\"display:none;\">\n",
              "\n",
              "  <svg xmlns=\"http://www.w3.org/2000/svg\" height=\"24px\" viewBox=\"0 -960 960 960\">\n",
              "    <path d=\"M120-120v-720h720v720H120Zm60-500h600v-160H180v160Zm220 220h160v-160H400v160Zm0 220h160v-160H400v160ZM180-400h160v-160H180v160Zm440 0h160v-160H620v160ZM180-180h160v-160H180v160Zm440 0h160v-160H620v160Z\"/>\n",
              "  </svg>\n",
              "    </button>\n",
              "\n",
              "  <style>\n",
              "    .colab-df-container {\n",
              "      display:flex;\n",
              "      gap: 12px;\n",
              "    }\n",
              "\n",
              "    .colab-df-convert {\n",
              "      background-color: #E8F0FE;\n",
              "      border: none;\n",
              "      border-radius: 50%;\n",
              "      cursor: pointer;\n",
              "      display: none;\n",
              "      fill: #1967D2;\n",
              "      height: 32px;\n",
              "      padding: 0 0 0 0;\n",
              "      width: 32px;\n",
              "    }\n",
              "\n",
              "    .colab-df-convert:hover {\n",
              "      background-color: #E2EBFA;\n",
              "      box-shadow: 0px 1px 2px rgba(60, 64, 67, 0.3), 0px 1px 3px 1px rgba(60, 64, 67, 0.15);\n",
              "      fill: #174EA6;\n",
              "    }\n",
              "\n",
              "    .colab-df-buttons div {\n",
              "      margin-bottom: 4px;\n",
              "    }\n",
              "\n",
              "    [theme=dark] .colab-df-convert {\n",
              "      background-color: #3B4455;\n",
              "      fill: #D2E3FC;\n",
              "    }\n",
              "\n",
              "    [theme=dark] .colab-df-convert:hover {\n",
              "      background-color: #434B5C;\n",
              "      box-shadow: 0px 1px 3px 1px rgba(0, 0, 0, 0.15);\n",
              "      filter: drop-shadow(0px 1px 2px rgba(0, 0, 0, 0.3));\n",
              "      fill: #FFFFFF;\n",
              "    }\n",
              "  </style>\n",
              "\n",
              "    <script>\n",
              "      const buttonEl =\n",
              "        document.querySelector('#df-a0cd157a-3a55-4cf2-9761-5ef30ee24623 button.colab-df-convert');\n",
              "      buttonEl.style.display =\n",
              "        google.colab.kernel.accessAllowed ? 'block' : 'none';\n",
              "\n",
              "      async function convertToInteractive(key) {\n",
              "        const element = document.querySelector('#df-a0cd157a-3a55-4cf2-9761-5ef30ee24623');\n",
              "        const dataTable =\n",
              "          await google.colab.kernel.invokeFunction('convertToInteractive',\n",
              "                                                    [key], {});\n",
              "        if (!dataTable) return;\n",
              "\n",
              "        const docLinkHtml = 'Like what you see? Visit the ' +\n",
              "          '<a target=\"_blank\" href=https://colab.research.google.com/notebooks/data_table.ipynb>data table notebook</a>'\n",
              "          + ' to learn more about interactive tables.';\n",
              "        element.innerHTML = '';\n",
              "        dataTable['output_type'] = 'display_data';\n",
              "        await google.colab.output.renderOutput(dataTable, element);\n",
              "        const docLink = document.createElement('div');\n",
              "        docLink.innerHTML = docLinkHtml;\n",
              "        element.appendChild(docLink);\n",
              "      }\n",
              "    </script>\n",
              "  </div>\n",
              "\n",
              "\n",
              "<div id=\"df-c5ff142b-5d92-47cb-af39-bb6e5ad2fc08\">\n",
              "  <button class=\"colab-df-quickchart\" onclick=\"quickchart('df-c5ff142b-5d92-47cb-af39-bb6e5ad2fc08')\"\n",
              "            title=\"Suggest charts\"\n",
              "            style=\"display:none;\">\n",
              "\n",
              "<svg xmlns=\"http://www.w3.org/2000/svg\" height=\"24px\"viewBox=\"0 0 24 24\"\n",
              "     width=\"24px\">\n",
              "    <g>\n",
              "        <path d=\"M19 3H5c-1.1 0-2 .9-2 2v14c0 1.1.9 2 2 2h14c1.1 0 2-.9 2-2V5c0-1.1-.9-2-2-2zM9 17H7v-7h2v7zm4 0h-2V7h2v10zm4 0h-2v-4h2v4z\"/>\n",
              "    </g>\n",
              "</svg>\n",
              "  </button>\n",
              "\n",
              "<style>\n",
              "  .colab-df-quickchart {\n",
              "      --bg-color: #E8F0FE;\n",
              "      --fill-color: #1967D2;\n",
              "      --hover-bg-color: #E2EBFA;\n",
              "      --hover-fill-color: #174EA6;\n",
              "      --disabled-fill-color: #AAA;\n",
              "      --disabled-bg-color: #DDD;\n",
              "  }\n",
              "\n",
              "  [theme=dark] .colab-df-quickchart {\n",
              "      --bg-color: #3B4455;\n",
              "      --fill-color: #D2E3FC;\n",
              "      --hover-bg-color: #434B5C;\n",
              "      --hover-fill-color: #FFFFFF;\n",
              "      --disabled-bg-color: #3B4455;\n",
              "      --disabled-fill-color: #666;\n",
              "  }\n",
              "\n",
              "  .colab-df-quickchart {\n",
              "    background-color: var(--bg-color);\n",
              "    border: none;\n",
              "    border-radius: 50%;\n",
              "    cursor: pointer;\n",
              "    display: none;\n",
              "    fill: var(--fill-color);\n",
              "    height: 32px;\n",
              "    padding: 0;\n",
              "    width: 32px;\n",
              "  }\n",
              "\n",
              "  .colab-df-quickchart:hover {\n",
              "    background-color: var(--hover-bg-color);\n",
              "    box-shadow: 0 1px 2px rgba(60, 64, 67, 0.3), 0 1px 3px 1px rgba(60, 64, 67, 0.15);\n",
              "    fill: var(--button-hover-fill-color);\n",
              "  }\n",
              "\n",
              "  .colab-df-quickchart-complete:disabled,\n",
              "  .colab-df-quickchart-complete:disabled:hover {\n",
              "    background-color: var(--disabled-bg-color);\n",
              "    fill: var(--disabled-fill-color);\n",
              "    box-shadow: none;\n",
              "  }\n",
              "\n",
              "  .colab-df-spinner {\n",
              "    border: 2px solid var(--fill-color);\n",
              "    border-color: transparent;\n",
              "    border-bottom-color: var(--fill-color);\n",
              "    animation:\n",
              "      spin 1s steps(1) infinite;\n",
              "  }\n",
              "\n",
              "  @keyframes spin {\n",
              "    0% {\n",
              "      border-color: transparent;\n",
              "      border-bottom-color: var(--fill-color);\n",
              "      border-left-color: var(--fill-color);\n",
              "    }\n",
              "    20% {\n",
              "      border-color: transparent;\n",
              "      border-left-color: var(--fill-color);\n",
              "      border-top-color: var(--fill-color);\n",
              "    }\n",
              "    30% {\n",
              "      border-color: transparent;\n",
              "      border-left-color: var(--fill-color);\n",
              "      border-top-color: var(--fill-color);\n",
              "      border-right-color: var(--fill-color);\n",
              "    }\n",
              "    40% {\n",
              "      border-color: transparent;\n",
              "      border-right-color: var(--fill-color);\n",
              "      border-top-color: var(--fill-color);\n",
              "    }\n",
              "    60% {\n",
              "      border-color: transparent;\n",
              "      border-right-color: var(--fill-color);\n",
              "    }\n",
              "    80% {\n",
              "      border-color: transparent;\n",
              "      border-right-color: var(--fill-color);\n",
              "      border-bottom-color: var(--fill-color);\n",
              "    }\n",
              "    90% {\n",
              "      border-color: transparent;\n",
              "      border-bottom-color: var(--fill-color);\n",
              "    }\n",
              "  }\n",
              "</style>\n",
              "\n",
              "  <script>\n",
              "    async function quickchart(key) {\n",
              "      const quickchartButtonEl =\n",
              "        document.querySelector('#' + key + ' button');\n",
              "      quickchartButtonEl.disabled = true;  // To prevent multiple clicks.\n",
              "      quickchartButtonEl.classList.add('colab-df-spinner');\n",
              "      try {\n",
              "        const charts = await google.colab.kernel.invokeFunction(\n",
              "            'suggestCharts', [key], {});\n",
              "      } catch (error) {\n",
              "        console.error('Error during call to suggestCharts:', error);\n",
              "      }\n",
              "      quickchartButtonEl.classList.remove('colab-df-spinner');\n",
              "      quickchartButtonEl.classList.add('colab-df-quickchart-complete');\n",
              "    }\n",
              "    (() => {\n",
              "      let quickchartButtonEl =\n",
              "        document.querySelector('#df-c5ff142b-5d92-47cb-af39-bb6e5ad2fc08 button');\n",
              "      quickchartButtonEl.style.display =\n",
              "        google.colab.kernel.accessAllowed ? 'block' : 'none';\n",
              "    })();\n",
              "  </script>\n",
              "</div>\n",
              "    </div>\n",
              "  </div>\n"
            ]
          },
          "metadata": {},
          "execution_count": 69
        }
      ]
    },
    {
      "cell_type": "code",
      "source": [
        "# Converting the Dataset into Classification Problem from regression problem\n",
        "df['MedHouseValue'] = pd.DataFrame(data.target)\n",
        "df[\"MedHousePrice\"] = pd.cut(df[\"MedHouseValue\"],\n",
        "                               bins = [0.0, 1.5, 3.0, 4.5, np.inf], labels = [1, 2, 3, 4])\n",
        "df = df.drop([\"MedHouseValue\"], axis=1)"
      ],
      "metadata": {
        "id": "WjzJTBUq3ISv"
      },
      "execution_count": 70,
      "outputs": []
    },
    {
      "cell_type": "code",
      "source": [
        "df"
      ],
      "metadata": {
        "colab": {
          "base_uri": "https://localhost:8080/",
          "height": 419
        },
        "id": "t3UBtrr53OFl",
        "outputId": "528cbd0f-bd5d-4419-ef28-bb00bb31cda2"
      },
      "execution_count": 71,
      "outputs": [
        {
          "output_type": "execute_result",
          "data": {
            "text/plain": [
              "       MedInc  HouseAge  AveRooms  AveBedrms  Population  AveOccup  Latitude  \\\n",
              "0      8.3252      41.0  6.984127   1.023810       322.0  2.555556     37.88   \n",
              "1      8.3014      21.0  6.238137   0.971880      2401.0  2.109842     37.86   \n",
              "2      7.2574      52.0  8.288136   1.073446       496.0  2.802260     37.85   \n",
              "3      5.6431      52.0  5.817352   1.073059       558.0  2.547945     37.85   \n",
              "4      3.8462      52.0  6.281853   1.081081       565.0  2.181467     37.85   \n",
              "...       ...       ...       ...        ...         ...       ...       ...   \n",
              "20635  1.5603      25.0  5.045455   1.133333       845.0  2.560606     39.48   \n",
              "20636  2.5568      18.0  6.114035   1.315789       356.0  3.122807     39.49   \n",
              "20637  1.7000      17.0  5.205543   1.120092      1007.0  2.325635     39.43   \n",
              "20638  1.8672      18.0  5.329513   1.171920       741.0  2.123209     39.43   \n",
              "20639  2.3886      16.0  5.254717   1.162264      1387.0  2.616981     39.37   \n",
              "\n",
              "       Longitude MedHousePrice  \n",
              "0        -122.23             4  \n",
              "1        -122.22             3  \n",
              "2        -122.24             3  \n",
              "3        -122.25             3  \n",
              "4        -122.25             3  \n",
              "...          ...           ...  \n",
              "20635    -121.09             1  \n",
              "20636    -121.21             1  \n",
              "20637    -121.22             1  \n",
              "20638    -121.32             1  \n",
              "20639    -121.24             1  \n",
              "\n",
              "[20640 rows x 9 columns]"
            ],
            "text/html": [
              "\n",
              "  <div id=\"df-1734ceab-2c33-409a-976d-dbc57db8078d\" class=\"colab-df-container\">\n",
              "    <div>\n",
              "<style scoped>\n",
              "    .dataframe tbody tr th:only-of-type {\n",
              "        vertical-align: middle;\n",
              "    }\n",
              "\n",
              "    .dataframe tbody tr th {\n",
              "        vertical-align: top;\n",
              "    }\n",
              "\n",
              "    .dataframe thead th {\n",
              "        text-align: right;\n",
              "    }\n",
              "</style>\n",
              "<table border=\"1\" class=\"dataframe\">\n",
              "  <thead>\n",
              "    <tr style=\"text-align: right;\">\n",
              "      <th></th>\n",
              "      <th>MedInc</th>\n",
              "      <th>HouseAge</th>\n",
              "      <th>AveRooms</th>\n",
              "      <th>AveBedrms</th>\n",
              "      <th>Population</th>\n",
              "      <th>AveOccup</th>\n",
              "      <th>Latitude</th>\n",
              "      <th>Longitude</th>\n",
              "      <th>MedHousePrice</th>\n",
              "    </tr>\n",
              "  </thead>\n",
              "  <tbody>\n",
              "    <tr>\n",
              "      <th>0</th>\n",
              "      <td>8.3252</td>\n",
              "      <td>41.0</td>\n",
              "      <td>6.984127</td>\n",
              "      <td>1.023810</td>\n",
              "      <td>322.0</td>\n",
              "      <td>2.555556</td>\n",
              "      <td>37.88</td>\n",
              "      <td>-122.23</td>\n",
              "      <td>4</td>\n",
              "    </tr>\n",
              "    <tr>\n",
              "      <th>1</th>\n",
              "      <td>8.3014</td>\n",
              "      <td>21.0</td>\n",
              "      <td>6.238137</td>\n",
              "      <td>0.971880</td>\n",
              "      <td>2401.0</td>\n",
              "      <td>2.109842</td>\n",
              "      <td>37.86</td>\n",
              "      <td>-122.22</td>\n",
              "      <td>3</td>\n",
              "    </tr>\n",
              "    <tr>\n",
              "      <th>2</th>\n",
              "      <td>7.2574</td>\n",
              "      <td>52.0</td>\n",
              "      <td>8.288136</td>\n",
              "      <td>1.073446</td>\n",
              "      <td>496.0</td>\n",
              "      <td>2.802260</td>\n",
              "      <td>37.85</td>\n",
              "      <td>-122.24</td>\n",
              "      <td>3</td>\n",
              "    </tr>\n",
              "    <tr>\n",
              "      <th>3</th>\n",
              "      <td>5.6431</td>\n",
              "      <td>52.0</td>\n",
              "      <td>5.817352</td>\n",
              "      <td>1.073059</td>\n",
              "      <td>558.0</td>\n",
              "      <td>2.547945</td>\n",
              "      <td>37.85</td>\n",
              "      <td>-122.25</td>\n",
              "      <td>3</td>\n",
              "    </tr>\n",
              "    <tr>\n",
              "      <th>4</th>\n",
              "      <td>3.8462</td>\n",
              "      <td>52.0</td>\n",
              "      <td>6.281853</td>\n",
              "      <td>1.081081</td>\n",
              "      <td>565.0</td>\n",
              "      <td>2.181467</td>\n",
              "      <td>37.85</td>\n",
              "      <td>-122.25</td>\n",
              "      <td>3</td>\n",
              "    </tr>\n",
              "    <tr>\n",
              "      <th>...</th>\n",
              "      <td>...</td>\n",
              "      <td>...</td>\n",
              "      <td>...</td>\n",
              "      <td>...</td>\n",
              "      <td>...</td>\n",
              "      <td>...</td>\n",
              "      <td>...</td>\n",
              "      <td>...</td>\n",
              "      <td>...</td>\n",
              "    </tr>\n",
              "    <tr>\n",
              "      <th>20635</th>\n",
              "      <td>1.5603</td>\n",
              "      <td>25.0</td>\n",
              "      <td>5.045455</td>\n",
              "      <td>1.133333</td>\n",
              "      <td>845.0</td>\n",
              "      <td>2.560606</td>\n",
              "      <td>39.48</td>\n",
              "      <td>-121.09</td>\n",
              "      <td>1</td>\n",
              "    </tr>\n",
              "    <tr>\n",
              "      <th>20636</th>\n",
              "      <td>2.5568</td>\n",
              "      <td>18.0</td>\n",
              "      <td>6.114035</td>\n",
              "      <td>1.315789</td>\n",
              "      <td>356.0</td>\n",
              "      <td>3.122807</td>\n",
              "      <td>39.49</td>\n",
              "      <td>-121.21</td>\n",
              "      <td>1</td>\n",
              "    </tr>\n",
              "    <tr>\n",
              "      <th>20637</th>\n",
              "      <td>1.7000</td>\n",
              "      <td>17.0</td>\n",
              "      <td>5.205543</td>\n",
              "      <td>1.120092</td>\n",
              "      <td>1007.0</td>\n",
              "      <td>2.325635</td>\n",
              "      <td>39.43</td>\n",
              "      <td>-121.22</td>\n",
              "      <td>1</td>\n",
              "    </tr>\n",
              "    <tr>\n",
              "      <th>20638</th>\n",
              "      <td>1.8672</td>\n",
              "      <td>18.0</td>\n",
              "      <td>5.329513</td>\n",
              "      <td>1.171920</td>\n",
              "      <td>741.0</td>\n",
              "      <td>2.123209</td>\n",
              "      <td>39.43</td>\n",
              "      <td>-121.32</td>\n",
              "      <td>1</td>\n",
              "    </tr>\n",
              "    <tr>\n",
              "      <th>20639</th>\n",
              "      <td>2.3886</td>\n",
              "      <td>16.0</td>\n",
              "      <td>5.254717</td>\n",
              "      <td>1.162264</td>\n",
              "      <td>1387.0</td>\n",
              "      <td>2.616981</td>\n",
              "      <td>39.37</td>\n",
              "      <td>-121.24</td>\n",
              "      <td>1</td>\n",
              "    </tr>\n",
              "  </tbody>\n",
              "</table>\n",
              "<p>20640 rows × 9 columns</p>\n",
              "</div>\n",
              "    <div class=\"colab-df-buttons\">\n",
              "\n",
              "  <div class=\"colab-df-container\">\n",
              "    <button class=\"colab-df-convert\" onclick=\"convertToInteractive('df-1734ceab-2c33-409a-976d-dbc57db8078d')\"\n",
              "            title=\"Convert this dataframe to an interactive table.\"\n",
              "            style=\"display:none;\">\n",
              "\n",
              "  <svg xmlns=\"http://www.w3.org/2000/svg\" height=\"24px\" viewBox=\"0 -960 960 960\">\n",
              "    <path d=\"M120-120v-720h720v720H120Zm60-500h600v-160H180v160Zm220 220h160v-160H400v160Zm0 220h160v-160H400v160ZM180-400h160v-160H180v160Zm440 0h160v-160H620v160ZM180-180h160v-160H180v160Zm440 0h160v-160H620v160Z\"/>\n",
              "  </svg>\n",
              "    </button>\n",
              "\n",
              "  <style>\n",
              "    .colab-df-container {\n",
              "      display:flex;\n",
              "      gap: 12px;\n",
              "    }\n",
              "\n",
              "    .colab-df-convert {\n",
              "      background-color: #E8F0FE;\n",
              "      border: none;\n",
              "      border-radius: 50%;\n",
              "      cursor: pointer;\n",
              "      display: none;\n",
              "      fill: #1967D2;\n",
              "      height: 32px;\n",
              "      padding: 0 0 0 0;\n",
              "      width: 32px;\n",
              "    }\n",
              "\n",
              "    .colab-df-convert:hover {\n",
              "      background-color: #E2EBFA;\n",
              "      box-shadow: 0px 1px 2px rgba(60, 64, 67, 0.3), 0px 1px 3px 1px rgba(60, 64, 67, 0.15);\n",
              "      fill: #174EA6;\n",
              "    }\n",
              "\n",
              "    .colab-df-buttons div {\n",
              "      margin-bottom: 4px;\n",
              "    }\n",
              "\n",
              "    [theme=dark] .colab-df-convert {\n",
              "      background-color: #3B4455;\n",
              "      fill: #D2E3FC;\n",
              "    }\n",
              "\n",
              "    [theme=dark] .colab-df-convert:hover {\n",
              "      background-color: #434B5C;\n",
              "      box-shadow: 0px 1px 3px 1px rgba(0, 0, 0, 0.15);\n",
              "      filter: drop-shadow(0px 1px 2px rgba(0, 0, 0, 0.3));\n",
              "      fill: #FFFFFF;\n",
              "    }\n",
              "  </style>\n",
              "\n",
              "    <script>\n",
              "      const buttonEl =\n",
              "        document.querySelector('#df-1734ceab-2c33-409a-976d-dbc57db8078d button.colab-df-convert');\n",
              "      buttonEl.style.display =\n",
              "        google.colab.kernel.accessAllowed ? 'block' : 'none';\n",
              "\n",
              "      async function convertToInteractive(key) {\n",
              "        const element = document.querySelector('#df-1734ceab-2c33-409a-976d-dbc57db8078d');\n",
              "        const dataTable =\n",
              "          await google.colab.kernel.invokeFunction('convertToInteractive',\n",
              "                                                    [key], {});\n",
              "        if (!dataTable) return;\n",
              "\n",
              "        const docLinkHtml = 'Like what you see? Visit the ' +\n",
              "          '<a target=\"_blank\" href=https://colab.research.google.com/notebooks/data_table.ipynb>data table notebook</a>'\n",
              "          + ' to learn more about interactive tables.';\n",
              "        element.innerHTML = '';\n",
              "        dataTable['output_type'] = 'display_data';\n",
              "        await google.colab.output.renderOutput(dataTable, element);\n",
              "        const docLink = document.createElement('div');\n",
              "        docLink.innerHTML = docLinkHtml;\n",
              "        element.appendChild(docLink);\n",
              "      }\n",
              "    </script>\n",
              "  </div>\n",
              "\n",
              "\n",
              "<div id=\"df-1c566641-970a-4c36-94b4-9a178a73c388\">\n",
              "  <button class=\"colab-df-quickchart\" onclick=\"quickchart('df-1c566641-970a-4c36-94b4-9a178a73c388')\"\n",
              "            title=\"Suggest charts\"\n",
              "            style=\"display:none;\">\n",
              "\n",
              "<svg xmlns=\"http://www.w3.org/2000/svg\" height=\"24px\"viewBox=\"0 0 24 24\"\n",
              "     width=\"24px\">\n",
              "    <g>\n",
              "        <path d=\"M19 3H5c-1.1 0-2 .9-2 2v14c0 1.1.9 2 2 2h14c1.1 0 2-.9 2-2V5c0-1.1-.9-2-2-2zM9 17H7v-7h2v7zm4 0h-2V7h2v10zm4 0h-2v-4h2v4z\"/>\n",
              "    </g>\n",
              "</svg>\n",
              "  </button>\n",
              "\n",
              "<style>\n",
              "  .colab-df-quickchart {\n",
              "      --bg-color: #E8F0FE;\n",
              "      --fill-color: #1967D2;\n",
              "      --hover-bg-color: #E2EBFA;\n",
              "      --hover-fill-color: #174EA6;\n",
              "      --disabled-fill-color: #AAA;\n",
              "      --disabled-bg-color: #DDD;\n",
              "  }\n",
              "\n",
              "  [theme=dark] .colab-df-quickchart {\n",
              "      --bg-color: #3B4455;\n",
              "      --fill-color: #D2E3FC;\n",
              "      --hover-bg-color: #434B5C;\n",
              "      --hover-fill-color: #FFFFFF;\n",
              "      --disabled-bg-color: #3B4455;\n",
              "      --disabled-fill-color: #666;\n",
              "  }\n",
              "\n",
              "  .colab-df-quickchart {\n",
              "    background-color: var(--bg-color);\n",
              "    border: none;\n",
              "    border-radius: 50%;\n",
              "    cursor: pointer;\n",
              "    display: none;\n",
              "    fill: var(--fill-color);\n",
              "    height: 32px;\n",
              "    padding: 0;\n",
              "    width: 32px;\n",
              "  }\n",
              "\n",
              "  .colab-df-quickchart:hover {\n",
              "    background-color: var(--hover-bg-color);\n",
              "    box-shadow: 0 1px 2px rgba(60, 64, 67, 0.3), 0 1px 3px 1px rgba(60, 64, 67, 0.15);\n",
              "    fill: var(--button-hover-fill-color);\n",
              "  }\n",
              "\n",
              "  .colab-df-quickchart-complete:disabled,\n",
              "  .colab-df-quickchart-complete:disabled:hover {\n",
              "    background-color: var(--disabled-bg-color);\n",
              "    fill: var(--disabled-fill-color);\n",
              "    box-shadow: none;\n",
              "  }\n",
              "\n",
              "  .colab-df-spinner {\n",
              "    border: 2px solid var(--fill-color);\n",
              "    border-color: transparent;\n",
              "    border-bottom-color: var(--fill-color);\n",
              "    animation:\n",
              "      spin 1s steps(1) infinite;\n",
              "  }\n",
              "\n",
              "  @keyframes spin {\n",
              "    0% {\n",
              "      border-color: transparent;\n",
              "      border-bottom-color: var(--fill-color);\n",
              "      border-left-color: var(--fill-color);\n",
              "    }\n",
              "    20% {\n",
              "      border-color: transparent;\n",
              "      border-left-color: var(--fill-color);\n",
              "      border-top-color: var(--fill-color);\n",
              "    }\n",
              "    30% {\n",
              "      border-color: transparent;\n",
              "      border-left-color: var(--fill-color);\n",
              "      border-top-color: var(--fill-color);\n",
              "      border-right-color: var(--fill-color);\n",
              "    }\n",
              "    40% {\n",
              "      border-color: transparent;\n",
              "      border-right-color: var(--fill-color);\n",
              "      border-top-color: var(--fill-color);\n",
              "    }\n",
              "    60% {\n",
              "      border-color: transparent;\n",
              "      border-right-color: var(--fill-color);\n",
              "    }\n",
              "    80% {\n",
              "      border-color: transparent;\n",
              "      border-right-color: var(--fill-color);\n",
              "      border-bottom-color: var(--fill-color);\n",
              "    }\n",
              "    90% {\n",
              "      border-color: transparent;\n",
              "      border-bottom-color: var(--fill-color);\n",
              "    }\n",
              "  }\n",
              "</style>\n",
              "\n",
              "  <script>\n",
              "    async function quickchart(key) {\n",
              "      const quickchartButtonEl =\n",
              "        document.querySelector('#' + key + ' button');\n",
              "      quickchartButtonEl.disabled = true;  // To prevent multiple clicks.\n",
              "      quickchartButtonEl.classList.add('colab-df-spinner');\n",
              "      try {\n",
              "        const charts = await google.colab.kernel.invokeFunction(\n",
              "            'suggestCharts', [key], {});\n",
              "      } catch (error) {\n",
              "        console.error('Error during call to suggestCharts:', error);\n",
              "      }\n",
              "      quickchartButtonEl.classList.remove('colab-df-spinner');\n",
              "      quickchartButtonEl.classList.add('colab-df-quickchart-complete');\n",
              "    }\n",
              "    (() => {\n",
              "      let quickchartButtonEl =\n",
              "        document.querySelector('#df-1c566641-970a-4c36-94b4-9a178a73c388 button');\n",
              "      quickchartButtonEl.style.display =\n",
              "        google.colab.kernel.accessAllowed ? 'block' : 'none';\n",
              "    })();\n",
              "  </script>\n",
              "</div>\n",
              "    </div>\n",
              "  </div>\n"
            ]
          },
          "metadata": {},
          "execution_count": 71
        }
      ]
    },
    {
      "cell_type": "code",
      "source": [
        "# Spliting the dataset into training and testing data with stratified split to maintain the class proportions\n",
        "stratified_split = StratifiedShuffleSplit(n_splits=1, train_size=0.8, random_state=42)\n",
        "X_df = df.drop([\"MedHousePrice\"], axis=1)\n",
        "y_df = df[\"MedHousePrice\"]\n",
        "for train_index, test_index in stratified_split.split(X_df, y_df):\n",
        "    X_train, X_test = X_df.iloc[train_index], X_df.iloc[test_index]\n",
        "    y_train, y_test = y_df.iloc[train_index], y_df.iloc[test_index]"
      ],
      "metadata": {
        "id": "xdPr1wSvLZBp"
      },
      "execution_count": 72,
      "outputs": []
    },
    {
      "cell_type": "code",
      "source": [
        "print(f\"X train shape: {X_train.shape}\")\n",
        "print(f\"X test shape: {X_test.shape}\")"
      ],
      "metadata": {
        "colab": {
          "base_uri": "https://localhost:8080/"
        },
        "id": "3s0V85d-LvN7",
        "outputId": "89f36c70-3dd6-47da-a4cd-fc046d2bfa7e"
      },
      "execution_count": 73,
      "outputs": [
        {
          "output_type": "stream",
          "name": "stdout",
          "text": [
            "X train shape: (16512, 8)\n",
            "X test shape: (4128, 8)\n"
          ]
        }
      ]
    },
    {
      "cell_type": "code",
      "source": [
        "# Displaying distribution of Target variables from Subset and whole data\n",
        "subset_data = X_df.iloc[train_index]\n",
        "subset_data['MedHousePrice'] = y_df.iloc[train_index]\n",
        "\n",
        "print(\"\\nDistribution of Target Variable in Subset:\")\n",
        "print(subset_data['MedHousePrice'].value_counts(normalize=True))\n",
        "\n",
        "print(\"\\nDistribution of Target Variable in Whole:\")\n",
        "print(df['MedHousePrice'].value_counts(normalize=True))"
      ],
      "metadata": {
        "colab": {
          "base_uri": "https://localhost:8080/"
        },
        "id": "wAzt0r6CRF2s",
        "outputId": "6dba1095-0420-4330-da1e-85ed7a322df8"
      },
      "execution_count": 74,
      "outputs": [
        {
          "output_type": "stream",
          "name": "stdout",
          "text": [
            "\n",
            "Distribution of Target Variable in Subset:\n",
            "2    0.444949\n",
            "1    0.369186\n",
            "3    0.124939\n",
            "4    0.060925\n",
            "Name: MedHousePrice, dtype: float64\n",
            "\n",
            "Distribution of Target Variable in Whole:\n",
            "2    0.444961\n",
            "1    0.369186\n",
            "3    0.124952\n",
            "4    0.060901\n",
            "Name: MedHousePrice, dtype: float64\n"
          ]
        }
      ]
    },
    {
      "cell_type": "code",
      "source": [
        "#Droping duplicate values\n",
        "print(X_train.shape)\n",
        "X_train = X_train.drop_duplicates(keep='first')\n",
        "print(X_train.shape)"
      ],
      "metadata": {
        "colab": {
          "base_uri": "https://localhost:8080/"
        },
        "id": "r75BJ6fwW__2",
        "outputId": "efaaa2e2-09c2-45e6-891c-aff0e5d1d6d8"
      },
      "execution_count": 75,
      "outputs": [
        {
          "output_type": "stream",
          "name": "stdout",
          "text": [
            "(16512, 8)\n",
            "(16512, 8)\n"
          ]
        }
      ]
    },
    {
      "cell_type": "code",
      "source": [
        "X_train.describe()"
      ],
      "metadata": {
        "colab": {
          "base_uri": "https://localhost:8080/",
          "height": 317
        },
        "id": "5tttrV8bOTJu",
        "outputId": "4437d275-3490-4931-ba58-d57cf5114d91"
      },
      "execution_count": 76,
      "outputs": [
        {
          "output_type": "execute_result",
          "data": {
            "text/plain": [
              "             MedInc      HouseAge      AveRooms     AveBedrms    Population  \\\n",
              "count  16512.000000  16512.000000  16512.000000  16512.000000  16512.000000   \n",
              "mean       3.864952     28.684956      5.433018      1.098612   1424.395470   \n",
              "std        1.899167     12.588427      2.604361      0.506412   1105.164318   \n",
              "min        0.499900      1.000000      0.846154      0.333333      8.000000   \n",
              "25%        2.560225     18.000000      4.438596      1.005913    789.750000   \n",
              "50%        3.526900     29.000000      5.221394      1.048573   1170.000000   \n",
              "75%        4.742300     37.000000      6.052554      1.098989   1728.000000   \n",
              "max       15.000100     52.000000    141.909091     34.066667  28566.000000   \n",
              "\n",
              "           AveOccup      Latitude     Longitude  \n",
              "count  16512.000000  16512.000000  16512.000000  \n",
              "mean       3.075795     35.636256   -119.571269  \n",
              "std       10.933967      2.138775      2.004163  \n",
              "min        0.692308     32.540000   -124.350000  \n",
              "25%        2.428571     33.930000   -121.800000  \n",
              "50%        2.819961     34.260000   -118.500000  \n",
              "75%        3.286276     37.720000   -118.010000  \n",
              "max     1243.333333     41.950000   -114.310000  "
            ],
            "text/html": [
              "\n",
              "  <div id=\"df-92841ee4-bf77-4f2e-b381-6cd0f284c442\" class=\"colab-df-container\">\n",
              "    <div>\n",
              "<style scoped>\n",
              "    .dataframe tbody tr th:only-of-type {\n",
              "        vertical-align: middle;\n",
              "    }\n",
              "\n",
              "    .dataframe tbody tr th {\n",
              "        vertical-align: top;\n",
              "    }\n",
              "\n",
              "    .dataframe thead th {\n",
              "        text-align: right;\n",
              "    }\n",
              "</style>\n",
              "<table border=\"1\" class=\"dataframe\">\n",
              "  <thead>\n",
              "    <tr style=\"text-align: right;\">\n",
              "      <th></th>\n",
              "      <th>MedInc</th>\n",
              "      <th>HouseAge</th>\n",
              "      <th>AveRooms</th>\n",
              "      <th>AveBedrms</th>\n",
              "      <th>Population</th>\n",
              "      <th>AveOccup</th>\n",
              "      <th>Latitude</th>\n",
              "      <th>Longitude</th>\n",
              "    </tr>\n",
              "  </thead>\n",
              "  <tbody>\n",
              "    <tr>\n",
              "      <th>count</th>\n",
              "      <td>16512.000000</td>\n",
              "      <td>16512.000000</td>\n",
              "      <td>16512.000000</td>\n",
              "      <td>16512.000000</td>\n",
              "      <td>16512.000000</td>\n",
              "      <td>16512.000000</td>\n",
              "      <td>16512.000000</td>\n",
              "      <td>16512.000000</td>\n",
              "    </tr>\n",
              "    <tr>\n",
              "      <th>mean</th>\n",
              "      <td>3.864952</td>\n",
              "      <td>28.684956</td>\n",
              "      <td>5.433018</td>\n",
              "      <td>1.098612</td>\n",
              "      <td>1424.395470</td>\n",
              "      <td>3.075795</td>\n",
              "      <td>35.636256</td>\n",
              "      <td>-119.571269</td>\n",
              "    </tr>\n",
              "    <tr>\n",
              "      <th>std</th>\n",
              "      <td>1.899167</td>\n",
              "      <td>12.588427</td>\n",
              "      <td>2.604361</td>\n",
              "      <td>0.506412</td>\n",
              "      <td>1105.164318</td>\n",
              "      <td>10.933967</td>\n",
              "      <td>2.138775</td>\n",
              "      <td>2.004163</td>\n",
              "    </tr>\n",
              "    <tr>\n",
              "      <th>min</th>\n",
              "      <td>0.499900</td>\n",
              "      <td>1.000000</td>\n",
              "      <td>0.846154</td>\n",
              "      <td>0.333333</td>\n",
              "      <td>8.000000</td>\n",
              "      <td>0.692308</td>\n",
              "      <td>32.540000</td>\n",
              "      <td>-124.350000</td>\n",
              "    </tr>\n",
              "    <tr>\n",
              "      <th>25%</th>\n",
              "      <td>2.560225</td>\n",
              "      <td>18.000000</td>\n",
              "      <td>4.438596</td>\n",
              "      <td>1.005913</td>\n",
              "      <td>789.750000</td>\n",
              "      <td>2.428571</td>\n",
              "      <td>33.930000</td>\n",
              "      <td>-121.800000</td>\n",
              "    </tr>\n",
              "    <tr>\n",
              "      <th>50%</th>\n",
              "      <td>3.526900</td>\n",
              "      <td>29.000000</td>\n",
              "      <td>5.221394</td>\n",
              "      <td>1.048573</td>\n",
              "      <td>1170.000000</td>\n",
              "      <td>2.819961</td>\n",
              "      <td>34.260000</td>\n",
              "      <td>-118.500000</td>\n",
              "    </tr>\n",
              "    <tr>\n",
              "      <th>75%</th>\n",
              "      <td>4.742300</td>\n",
              "      <td>37.000000</td>\n",
              "      <td>6.052554</td>\n",
              "      <td>1.098989</td>\n",
              "      <td>1728.000000</td>\n",
              "      <td>3.286276</td>\n",
              "      <td>37.720000</td>\n",
              "      <td>-118.010000</td>\n",
              "    </tr>\n",
              "    <tr>\n",
              "      <th>max</th>\n",
              "      <td>15.000100</td>\n",
              "      <td>52.000000</td>\n",
              "      <td>141.909091</td>\n",
              "      <td>34.066667</td>\n",
              "      <td>28566.000000</td>\n",
              "      <td>1243.333333</td>\n",
              "      <td>41.950000</td>\n",
              "      <td>-114.310000</td>\n",
              "    </tr>\n",
              "  </tbody>\n",
              "</table>\n",
              "</div>\n",
              "    <div class=\"colab-df-buttons\">\n",
              "\n",
              "  <div class=\"colab-df-container\">\n",
              "    <button class=\"colab-df-convert\" onclick=\"convertToInteractive('df-92841ee4-bf77-4f2e-b381-6cd0f284c442')\"\n",
              "            title=\"Convert this dataframe to an interactive table.\"\n",
              "            style=\"display:none;\">\n",
              "\n",
              "  <svg xmlns=\"http://www.w3.org/2000/svg\" height=\"24px\" viewBox=\"0 -960 960 960\">\n",
              "    <path d=\"M120-120v-720h720v720H120Zm60-500h600v-160H180v160Zm220 220h160v-160H400v160Zm0 220h160v-160H400v160ZM180-400h160v-160H180v160Zm440 0h160v-160H620v160ZM180-180h160v-160H180v160Zm440 0h160v-160H620v160Z\"/>\n",
              "  </svg>\n",
              "    </button>\n",
              "\n",
              "  <style>\n",
              "    .colab-df-container {\n",
              "      display:flex;\n",
              "      gap: 12px;\n",
              "    }\n",
              "\n",
              "    .colab-df-convert {\n",
              "      background-color: #E8F0FE;\n",
              "      border: none;\n",
              "      border-radius: 50%;\n",
              "      cursor: pointer;\n",
              "      display: none;\n",
              "      fill: #1967D2;\n",
              "      height: 32px;\n",
              "      padding: 0 0 0 0;\n",
              "      width: 32px;\n",
              "    }\n",
              "\n",
              "    .colab-df-convert:hover {\n",
              "      background-color: #E2EBFA;\n",
              "      box-shadow: 0px 1px 2px rgba(60, 64, 67, 0.3), 0px 1px 3px 1px rgba(60, 64, 67, 0.15);\n",
              "      fill: #174EA6;\n",
              "    }\n",
              "\n",
              "    .colab-df-buttons div {\n",
              "      margin-bottom: 4px;\n",
              "    }\n",
              "\n",
              "    [theme=dark] .colab-df-convert {\n",
              "      background-color: #3B4455;\n",
              "      fill: #D2E3FC;\n",
              "    }\n",
              "\n",
              "    [theme=dark] .colab-df-convert:hover {\n",
              "      background-color: #434B5C;\n",
              "      box-shadow: 0px 1px 3px 1px rgba(0, 0, 0, 0.15);\n",
              "      filter: drop-shadow(0px 1px 2px rgba(0, 0, 0, 0.3));\n",
              "      fill: #FFFFFF;\n",
              "    }\n",
              "  </style>\n",
              "\n",
              "    <script>\n",
              "      const buttonEl =\n",
              "        document.querySelector('#df-92841ee4-bf77-4f2e-b381-6cd0f284c442 button.colab-df-convert');\n",
              "      buttonEl.style.display =\n",
              "        google.colab.kernel.accessAllowed ? 'block' : 'none';\n",
              "\n",
              "      async function convertToInteractive(key) {\n",
              "        const element = document.querySelector('#df-92841ee4-bf77-4f2e-b381-6cd0f284c442');\n",
              "        const dataTable =\n",
              "          await google.colab.kernel.invokeFunction('convertToInteractive',\n",
              "                                                    [key], {});\n",
              "        if (!dataTable) return;\n",
              "\n",
              "        const docLinkHtml = 'Like what you see? Visit the ' +\n",
              "          '<a target=\"_blank\" href=https://colab.research.google.com/notebooks/data_table.ipynb>data table notebook</a>'\n",
              "          + ' to learn more about interactive tables.';\n",
              "        element.innerHTML = '';\n",
              "        dataTable['output_type'] = 'display_data';\n",
              "        await google.colab.output.renderOutput(dataTable, element);\n",
              "        const docLink = document.createElement('div');\n",
              "        docLink.innerHTML = docLinkHtml;\n",
              "        element.appendChild(docLink);\n",
              "      }\n",
              "    </script>\n",
              "  </div>\n",
              "\n",
              "\n",
              "<div id=\"df-ae1277e1-26e0-4d68-9f1b-788d2d6efe9c\">\n",
              "  <button class=\"colab-df-quickchart\" onclick=\"quickchart('df-ae1277e1-26e0-4d68-9f1b-788d2d6efe9c')\"\n",
              "            title=\"Suggest charts\"\n",
              "            style=\"display:none;\">\n",
              "\n",
              "<svg xmlns=\"http://www.w3.org/2000/svg\" height=\"24px\"viewBox=\"0 0 24 24\"\n",
              "     width=\"24px\">\n",
              "    <g>\n",
              "        <path d=\"M19 3H5c-1.1 0-2 .9-2 2v14c0 1.1.9 2 2 2h14c1.1 0 2-.9 2-2V5c0-1.1-.9-2-2-2zM9 17H7v-7h2v7zm4 0h-2V7h2v10zm4 0h-2v-4h2v4z\"/>\n",
              "    </g>\n",
              "</svg>\n",
              "  </button>\n",
              "\n",
              "<style>\n",
              "  .colab-df-quickchart {\n",
              "      --bg-color: #E8F0FE;\n",
              "      --fill-color: #1967D2;\n",
              "      --hover-bg-color: #E2EBFA;\n",
              "      --hover-fill-color: #174EA6;\n",
              "      --disabled-fill-color: #AAA;\n",
              "      --disabled-bg-color: #DDD;\n",
              "  }\n",
              "\n",
              "  [theme=dark] .colab-df-quickchart {\n",
              "      --bg-color: #3B4455;\n",
              "      --fill-color: #D2E3FC;\n",
              "      --hover-bg-color: #434B5C;\n",
              "      --hover-fill-color: #FFFFFF;\n",
              "      --disabled-bg-color: #3B4455;\n",
              "      --disabled-fill-color: #666;\n",
              "  }\n",
              "\n",
              "  .colab-df-quickchart {\n",
              "    background-color: var(--bg-color);\n",
              "    border: none;\n",
              "    border-radius: 50%;\n",
              "    cursor: pointer;\n",
              "    display: none;\n",
              "    fill: var(--fill-color);\n",
              "    height: 32px;\n",
              "    padding: 0;\n",
              "    width: 32px;\n",
              "  }\n",
              "\n",
              "  .colab-df-quickchart:hover {\n",
              "    background-color: var(--hover-bg-color);\n",
              "    box-shadow: 0 1px 2px rgba(60, 64, 67, 0.3), 0 1px 3px 1px rgba(60, 64, 67, 0.15);\n",
              "    fill: var(--button-hover-fill-color);\n",
              "  }\n",
              "\n",
              "  .colab-df-quickchart-complete:disabled,\n",
              "  .colab-df-quickchart-complete:disabled:hover {\n",
              "    background-color: var(--disabled-bg-color);\n",
              "    fill: var(--disabled-fill-color);\n",
              "    box-shadow: none;\n",
              "  }\n",
              "\n",
              "  .colab-df-spinner {\n",
              "    border: 2px solid var(--fill-color);\n",
              "    border-color: transparent;\n",
              "    border-bottom-color: var(--fill-color);\n",
              "    animation:\n",
              "      spin 1s steps(1) infinite;\n",
              "  }\n",
              "\n",
              "  @keyframes spin {\n",
              "    0% {\n",
              "      border-color: transparent;\n",
              "      border-bottom-color: var(--fill-color);\n",
              "      border-left-color: var(--fill-color);\n",
              "    }\n",
              "    20% {\n",
              "      border-color: transparent;\n",
              "      border-left-color: var(--fill-color);\n",
              "      border-top-color: var(--fill-color);\n",
              "    }\n",
              "    30% {\n",
              "      border-color: transparent;\n",
              "      border-left-color: var(--fill-color);\n",
              "      border-top-color: var(--fill-color);\n",
              "      border-right-color: var(--fill-color);\n",
              "    }\n",
              "    40% {\n",
              "      border-color: transparent;\n",
              "      border-right-color: var(--fill-color);\n",
              "      border-top-color: var(--fill-color);\n",
              "    }\n",
              "    60% {\n",
              "      border-color: transparent;\n",
              "      border-right-color: var(--fill-color);\n",
              "    }\n",
              "    80% {\n",
              "      border-color: transparent;\n",
              "      border-right-color: var(--fill-color);\n",
              "      border-bottom-color: var(--fill-color);\n",
              "    }\n",
              "    90% {\n",
              "      border-color: transparent;\n",
              "      border-bottom-color: var(--fill-color);\n",
              "    }\n",
              "  }\n",
              "</style>\n",
              "\n",
              "  <script>\n",
              "    async function quickchart(key) {\n",
              "      const quickchartButtonEl =\n",
              "        document.querySelector('#' + key + ' button');\n",
              "      quickchartButtonEl.disabled = true;  // To prevent multiple clicks.\n",
              "      quickchartButtonEl.classList.add('colab-df-spinner');\n",
              "      try {\n",
              "        const charts = await google.colab.kernel.invokeFunction(\n",
              "            'suggestCharts', [key], {});\n",
              "      } catch (error) {\n",
              "        console.error('Error during call to suggestCharts:', error);\n",
              "      }\n",
              "      quickchartButtonEl.classList.remove('colab-df-spinner');\n",
              "      quickchartButtonEl.classList.add('colab-df-quickchart-complete');\n",
              "    }\n",
              "    (() => {\n",
              "      let quickchartButtonEl =\n",
              "        document.querySelector('#df-ae1277e1-26e0-4d68-9f1b-788d2d6efe9c button');\n",
              "      quickchartButtonEl.style.display =\n",
              "        google.colab.kernel.accessAllowed ? 'block' : 'none';\n",
              "    })();\n",
              "  </script>\n",
              "</div>\n",
              "    </div>\n",
              "  </div>\n"
            ]
          },
          "metadata": {},
          "execution_count": 76
        }
      ]
    },
    {
      "cell_type": "code",
      "source": [
        "features_of_interest = [\"AveRooms\", \"AveBedrms\", \"AveOccup\", \"Population\"]\n",
        "X_train[features_of_interest].describe()"
      ],
      "metadata": {
        "colab": {
          "base_uri": "https://localhost:8080/",
          "height": 297
        },
        "id": "lyBMs3UoONtM",
        "outputId": "16d4a6a1-51fa-4b41-c9ae-7556c6d862bd"
      },
      "execution_count": 77,
      "outputs": [
        {
          "output_type": "execute_result",
          "data": {
            "text/plain": [
              "           AveRooms     AveBedrms      AveOccup    Population\n",
              "count  16512.000000  16512.000000  16512.000000  16512.000000\n",
              "mean       5.433018      1.098612      3.075795   1424.395470\n",
              "std        2.604361      0.506412     10.933967   1105.164318\n",
              "min        0.846154      0.333333      0.692308      8.000000\n",
              "25%        4.438596      1.005913      2.428571    789.750000\n",
              "50%        5.221394      1.048573      2.819961   1170.000000\n",
              "75%        6.052554      1.098989      3.286276   1728.000000\n",
              "max      141.909091     34.066667   1243.333333  28566.000000"
            ],
            "text/html": [
              "\n",
              "  <div id=\"df-171853e9-e2f9-4453-ae19-cb3d24ab3c38\" class=\"colab-df-container\">\n",
              "    <div>\n",
              "<style scoped>\n",
              "    .dataframe tbody tr th:only-of-type {\n",
              "        vertical-align: middle;\n",
              "    }\n",
              "\n",
              "    .dataframe tbody tr th {\n",
              "        vertical-align: top;\n",
              "    }\n",
              "\n",
              "    .dataframe thead th {\n",
              "        text-align: right;\n",
              "    }\n",
              "</style>\n",
              "<table border=\"1\" class=\"dataframe\">\n",
              "  <thead>\n",
              "    <tr style=\"text-align: right;\">\n",
              "      <th></th>\n",
              "      <th>AveRooms</th>\n",
              "      <th>AveBedrms</th>\n",
              "      <th>AveOccup</th>\n",
              "      <th>Population</th>\n",
              "    </tr>\n",
              "  </thead>\n",
              "  <tbody>\n",
              "    <tr>\n",
              "      <th>count</th>\n",
              "      <td>16512.000000</td>\n",
              "      <td>16512.000000</td>\n",
              "      <td>16512.000000</td>\n",
              "      <td>16512.000000</td>\n",
              "    </tr>\n",
              "    <tr>\n",
              "      <th>mean</th>\n",
              "      <td>5.433018</td>\n",
              "      <td>1.098612</td>\n",
              "      <td>3.075795</td>\n",
              "      <td>1424.395470</td>\n",
              "    </tr>\n",
              "    <tr>\n",
              "      <th>std</th>\n",
              "      <td>2.604361</td>\n",
              "      <td>0.506412</td>\n",
              "      <td>10.933967</td>\n",
              "      <td>1105.164318</td>\n",
              "    </tr>\n",
              "    <tr>\n",
              "      <th>min</th>\n",
              "      <td>0.846154</td>\n",
              "      <td>0.333333</td>\n",
              "      <td>0.692308</td>\n",
              "      <td>8.000000</td>\n",
              "    </tr>\n",
              "    <tr>\n",
              "      <th>25%</th>\n",
              "      <td>4.438596</td>\n",
              "      <td>1.005913</td>\n",
              "      <td>2.428571</td>\n",
              "      <td>789.750000</td>\n",
              "    </tr>\n",
              "    <tr>\n",
              "      <th>50%</th>\n",
              "      <td>5.221394</td>\n",
              "      <td>1.048573</td>\n",
              "      <td>2.819961</td>\n",
              "      <td>1170.000000</td>\n",
              "    </tr>\n",
              "    <tr>\n",
              "      <th>75%</th>\n",
              "      <td>6.052554</td>\n",
              "      <td>1.098989</td>\n",
              "      <td>3.286276</td>\n",
              "      <td>1728.000000</td>\n",
              "    </tr>\n",
              "    <tr>\n",
              "      <th>max</th>\n",
              "      <td>141.909091</td>\n",
              "      <td>34.066667</td>\n",
              "      <td>1243.333333</td>\n",
              "      <td>28566.000000</td>\n",
              "    </tr>\n",
              "  </tbody>\n",
              "</table>\n",
              "</div>\n",
              "    <div class=\"colab-df-buttons\">\n",
              "\n",
              "  <div class=\"colab-df-container\">\n",
              "    <button class=\"colab-df-convert\" onclick=\"convertToInteractive('df-171853e9-e2f9-4453-ae19-cb3d24ab3c38')\"\n",
              "            title=\"Convert this dataframe to an interactive table.\"\n",
              "            style=\"display:none;\">\n",
              "\n",
              "  <svg xmlns=\"http://www.w3.org/2000/svg\" height=\"24px\" viewBox=\"0 -960 960 960\">\n",
              "    <path d=\"M120-120v-720h720v720H120Zm60-500h600v-160H180v160Zm220 220h160v-160H400v160Zm0 220h160v-160H400v160ZM180-400h160v-160H180v160Zm440 0h160v-160H620v160ZM180-180h160v-160H180v160Zm440 0h160v-160H620v160Z\"/>\n",
              "  </svg>\n",
              "    </button>\n",
              "\n",
              "  <style>\n",
              "    .colab-df-container {\n",
              "      display:flex;\n",
              "      gap: 12px;\n",
              "    }\n",
              "\n",
              "    .colab-df-convert {\n",
              "      background-color: #E8F0FE;\n",
              "      border: none;\n",
              "      border-radius: 50%;\n",
              "      cursor: pointer;\n",
              "      display: none;\n",
              "      fill: #1967D2;\n",
              "      height: 32px;\n",
              "      padding: 0 0 0 0;\n",
              "      width: 32px;\n",
              "    }\n",
              "\n",
              "    .colab-df-convert:hover {\n",
              "      background-color: #E2EBFA;\n",
              "      box-shadow: 0px 1px 2px rgba(60, 64, 67, 0.3), 0px 1px 3px 1px rgba(60, 64, 67, 0.15);\n",
              "      fill: #174EA6;\n",
              "    }\n",
              "\n",
              "    .colab-df-buttons div {\n",
              "      margin-bottom: 4px;\n",
              "    }\n",
              "\n",
              "    [theme=dark] .colab-df-convert {\n",
              "      background-color: #3B4455;\n",
              "      fill: #D2E3FC;\n",
              "    }\n",
              "\n",
              "    [theme=dark] .colab-df-convert:hover {\n",
              "      background-color: #434B5C;\n",
              "      box-shadow: 0px 1px 3px 1px rgba(0, 0, 0, 0.15);\n",
              "      filter: drop-shadow(0px 1px 2px rgba(0, 0, 0, 0.3));\n",
              "      fill: #FFFFFF;\n",
              "    }\n",
              "  </style>\n",
              "\n",
              "    <script>\n",
              "      const buttonEl =\n",
              "        document.querySelector('#df-171853e9-e2f9-4453-ae19-cb3d24ab3c38 button.colab-df-convert');\n",
              "      buttonEl.style.display =\n",
              "        google.colab.kernel.accessAllowed ? 'block' : 'none';\n",
              "\n",
              "      async function convertToInteractive(key) {\n",
              "        const element = document.querySelector('#df-171853e9-e2f9-4453-ae19-cb3d24ab3c38');\n",
              "        const dataTable =\n",
              "          await google.colab.kernel.invokeFunction('convertToInteractive',\n",
              "                                                    [key], {});\n",
              "        if (!dataTable) return;\n",
              "\n",
              "        const docLinkHtml = 'Like what you see? Visit the ' +\n",
              "          '<a target=\"_blank\" href=https://colab.research.google.com/notebooks/data_table.ipynb>data table notebook</a>'\n",
              "          + ' to learn more about interactive tables.';\n",
              "        element.innerHTML = '';\n",
              "        dataTable['output_type'] = 'display_data';\n",
              "        await google.colab.output.renderOutput(dataTable, element);\n",
              "        const docLink = document.createElement('div');\n",
              "        docLink.innerHTML = docLinkHtml;\n",
              "        element.appendChild(docLink);\n",
              "      }\n",
              "    </script>\n",
              "  </div>\n",
              "\n",
              "\n",
              "<div id=\"df-f911170c-c58b-4ba4-b817-31c25dd8f6f7\">\n",
              "  <button class=\"colab-df-quickchart\" onclick=\"quickchart('df-f911170c-c58b-4ba4-b817-31c25dd8f6f7')\"\n",
              "            title=\"Suggest charts\"\n",
              "            style=\"display:none;\">\n",
              "\n",
              "<svg xmlns=\"http://www.w3.org/2000/svg\" height=\"24px\"viewBox=\"0 0 24 24\"\n",
              "     width=\"24px\">\n",
              "    <g>\n",
              "        <path d=\"M19 3H5c-1.1 0-2 .9-2 2v14c0 1.1.9 2 2 2h14c1.1 0 2-.9 2-2V5c0-1.1-.9-2-2-2zM9 17H7v-7h2v7zm4 0h-2V7h2v10zm4 0h-2v-4h2v4z\"/>\n",
              "    </g>\n",
              "</svg>\n",
              "  </button>\n",
              "\n",
              "<style>\n",
              "  .colab-df-quickchart {\n",
              "      --bg-color: #E8F0FE;\n",
              "      --fill-color: #1967D2;\n",
              "      --hover-bg-color: #E2EBFA;\n",
              "      --hover-fill-color: #174EA6;\n",
              "      --disabled-fill-color: #AAA;\n",
              "      --disabled-bg-color: #DDD;\n",
              "  }\n",
              "\n",
              "  [theme=dark] .colab-df-quickchart {\n",
              "      --bg-color: #3B4455;\n",
              "      --fill-color: #D2E3FC;\n",
              "      --hover-bg-color: #434B5C;\n",
              "      --hover-fill-color: #FFFFFF;\n",
              "      --disabled-bg-color: #3B4455;\n",
              "      --disabled-fill-color: #666;\n",
              "  }\n",
              "\n",
              "  .colab-df-quickchart {\n",
              "    background-color: var(--bg-color);\n",
              "    border: none;\n",
              "    border-radius: 50%;\n",
              "    cursor: pointer;\n",
              "    display: none;\n",
              "    fill: var(--fill-color);\n",
              "    height: 32px;\n",
              "    padding: 0;\n",
              "    width: 32px;\n",
              "  }\n",
              "\n",
              "  .colab-df-quickchart:hover {\n",
              "    background-color: var(--hover-bg-color);\n",
              "    box-shadow: 0 1px 2px rgba(60, 64, 67, 0.3), 0 1px 3px 1px rgba(60, 64, 67, 0.15);\n",
              "    fill: var(--button-hover-fill-color);\n",
              "  }\n",
              "\n",
              "  .colab-df-quickchart-complete:disabled,\n",
              "  .colab-df-quickchart-complete:disabled:hover {\n",
              "    background-color: var(--disabled-bg-color);\n",
              "    fill: var(--disabled-fill-color);\n",
              "    box-shadow: none;\n",
              "  }\n",
              "\n",
              "  .colab-df-spinner {\n",
              "    border: 2px solid var(--fill-color);\n",
              "    border-color: transparent;\n",
              "    border-bottom-color: var(--fill-color);\n",
              "    animation:\n",
              "      spin 1s steps(1) infinite;\n",
              "  }\n",
              "\n",
              "  @keyframes spin {\n",
              "    0% {\n",
              "      border-color: transparent;\n",
              "      border-bottom-color: var(--fill-color);\n",
              "      border-left-color: var(--fill-color);\n",
              "    }\n",
              "    20% {\n",
              "      border-color: transparent;\n",
              "      border-left-color: var(--fill-color);\n",
              "      border-top-color: var(--fill-color);\n",
              "    }\n",
              "    30% {\n",
              "      border-color: transparent;\n",
              "      border-left-color: var(--fill-color);\n",
              "      border-top-color: var(--fill-color);\n",
              "      border-right-color: var(--fill-color);\n",
              "    }\n",
              "    40% {\n",
              "      border-color: transparent;\n",
              "      border-right-color: var(--fill-color);\n",
              "      border-top-color: var(--fill-color);\n",
              "    }\n",
              "    60% {\n",
              "      border-color: transparent;\n",
              "      border-right-color: var(--fill-color);\n",
              "    }\n",
              "    80% {\n",
              "      border-color: transparent;\n",
              "      border-right-color: var(--fill-color);\n",
              "      border-bottom-color: var(--fill-color);\n",
              "    }\n",
              "    90% {\n",
              "      border-color: transparent;\n",
              "      border-bottom-color: var(--fill-color);\n",
              "    }\n",
              "  }\n",
              "</style>\n",
              "\n",
              "  <script>\n",
              "    async function quickchart(key) {\n",
              "      const quickchartButtonEl =\n",
              "        document.querySelector('#' + key + ' button');\n",
              "      quickchartButtonEl.disabled = true;  // To prevent multiple clicks.\n",
              "      quickchartButtonEl.classList.add('colab-df-spinner');\n",
              "      try {\n",
              "        const charts = await google.colab.kernel.invokeFunction(\n",
              "            'suggestCharts', [key], {});\n",
              "      } catch (error) {\n",
              "        console.error('Error during call to suggestCharts:', error);\n",
              "      }\n",
              "      quickchartButtonEl.classList.remove('colab-df-spinner');\n",
              "      quickchartButtonEl.classList.add('colab-df-quickchart-complete');\n",
              "    }\n",
              "    (() => {\n",
              "      let quickchartButtonEl =\n",
              "        document.querySelector('#df-f911170c-c58b-4ba4-b817-31c25dd8f6f7 button');\n",
              "      quickchartButtonEl.style.display =\n",
              "        google.colab.kernel.accessAllowed ? 'block' : 'none';\n",
              "    })();\n",
              "  </script>\n",
              "</div>\n",
              "    </div>\n",
              "  </div>\n"
            ]
          },
          "metadata": {},
          "execution_count": 77
        }
      ]
    },
    {
      "cell_type": "code",
      "source": [
        "# Displaying histogram for training data\n",
        "%matplotlib inline\n",
        "X_train.hist(bins=50, figsize=(20, 15))"
      ],
      "metadata": {
        "colab": {
          "base_uri": "https://localhost:8080/",
          "height": 829
        },
        "id": "HqTl2ZpJ_d0z",
        "outputId": "32a2d6c5-806b-49d9-8a18-e40333ecc75e"
      },
      "execution_count": 78,
      "outputs": [
        {
          "output_type": "execute_result",
          "data": {
            "text/plain": [
              "array([[<Axes: title={'center': 'MedInc'}>,\n",
              "        <Axes: title={'center': 'HouseAge'}>,\n",
              "        <Axes: title={'center': 'AveRooms'}>],\n",
              "       [<Axes: title={'center': 'AveBedrms'}>,\n",
              "        <Axes: title={'center': 'Population'}>,\n",
              "        <Axes: title={'center': 'AveOccup'}>],\n",
              "       [<Axes: title={'center': 'Latitude'}>,\n",
              "        <Axes: title={'center': 'Longitude'}>, <Axes: >]], dtype=object)"
            ]
          },
          "metadata": {},
          "execution_count": 78
        },
        {
          "output_type": "display_data",
          "data": {
            "text/plain": [
              "<Figure size 2000x1500 with 9 Axes>"
            ],
            "image/png": "[encoded data removed]"
          },
          "metadata": {}
        }
      ]
    },
    {
      "cell_type": "code",
      "source": [
        "# Displaying class distribution of Target\n",
        "%matplotlib inline\n",
        "y_train.hist(bins=50, figsize=(15, 10))"
      ],
      "metadata": {
        "colab": {
          "base_uri": "https://localhost:8080/",
          "height": 630
        },
        "id": "JnZN4G4AO1JT",
        "outputId": "12e84d75-4ce3-4ed9-98f9-15f9f40dbd80"
      },
      "execution_count": 79,
      "outputs": [
        {
          "output_type": "execute_result",
          "data": {
            "text/plain": [
              "<Axes: >"
            ]
          },
          "metadata": {},
          "execution_count": 79
        },
        {
          "output_type": "display_data",
          "data": {
            "text/plain": [
              "<Figure size 1500x1000 with 1 Axes>"
            ],
            "image/png": "[encoded data removed]"
          },
          "metadata": {}
        }
      ]
    },
    {
      "cell_type": "code",
      "source": [
        "# Displaying scatterplot with respect to Median Housing Price\n",
        "X_train.plot(kind=\"scatter\", x=\"Longitude\", y=\"Latitude\", alpha=0.5,\n",
        "    s=X_train[\"Population\"]/100, label=\"Population\", figsize=(10,7),\n",
        "    c=y_train, cmap=plt.get_cmap(\"jet\"), colorbar=True,\n",
        "    sharex=False)"
      ],
      "metadata": {
        "colab": {
          "base_uri": "https://localhost:8080/",
          "height": 641
        },
        "id": "kWLT8Upa_m_Q",
        "outputId": "d5050830-fd1d-4765-a8e3-82769f74def3"
      },
      "execution_count": 80,
      "outputs": [
        {
          "output_type": "execute_result",
          "data": {
            "text/plain": [
              "<Axes: xlabel='Longitude', ylabel='Latitude'>"
            ]
          },
          "metadata": {},
          "execution_count": 80
        },
        {
          "output_type": "display_data",
          "data": {
            "text/plain": [
              "<Figure size 1000x700 with 2 Axes>"
            ],
            "image/png": "[encoded data removed]"
          },
          "metadata": {}
        }
      ]
    },
    {
      "cell_type": "code",
      "source": [
        "correlation_data_all = pd.concat([X_train, y_train], axis=1)\n",
        "\n",
        "# Compute the correlation matrix\n",
        "correlation_matrix_all = correlation_data_all.corr()\n",
        "\n",
        "# Set up the matplotlib figure\n",
        "plt.figure(figsize=(10, 8))\n",
        "\n",
        "# Create a heatmap using Seaborn\n",
        "sns.heatmap(correlation_matrix_all, annot=True, cmap='coolwarm', fmt=\".2f\", annot_kws={\"size\": 10})\n",
        "\n",
        "# Set title and display the plot\n",
        "plt.title('Correlation Matrix Heatmap')\n",
        "plt.tight_layout()\n",
        "plt.show()"
      ],
      "metadata": {
        "colab": {
          "base_uri": "https://localhost:8080/",
          "height": 776
        },
        "id": "1o4klsff2fZl",
        "outputId": "1ff04a2b-2f63-4037-8718-09e079bb99c1"
      },
      "execution_count": 81,
      "outputs": [
        {
          "output_type": "display_data",
          "data": {
            "text/plain": [
              "<Figure size 1000x800 with 2 Axes>"
            ],
            "image/png": "[encoded data removed]"
          },
          "metadata": {}
        }
      ]
    },
    {
      "cell_type": "code",
      "source": [
        "#As you can see above Correlation metrics does not show correlation with MedHousePrice. It is because MedHousePrice is categorical variable which is not supported.\n",
        "#Inorder to get the correlation of MedHousePrice with Continous values of other features we will use Correlation ratios.\n",
        "#Below is Correlation ratios between Categorical Target variable MedHousePrice with other features.\n",
        "#The correlation ratio measures the ratio of variance explained in the continuous variable by a categorical variable.\n",
        "#It ranges between 0 and 1, indicating the strength of association.\n",
        "#A higher correlation ratio implies a stronger relationship between the categorical and continuous variables.\n",
        "\n",
        "def correlation_ratio(categories, measurements):\n",
        "    f_ratio, _ = f_oneway(*[measurements[categories == category] for category in np.unique(categories)])\n",
        "    correlation_ratio = np.sqrt(f_ratio / (f_ratio + 1))\n",
        "    return correlation_ratio\n",
        "\n",
        "#target = 'MedHousePrice'\n",
        "continuous_features = df.select_dtypes(include=['float64', 'int64']).columns.tolist()\n",
        "\n",
        "for continuous_feature in continuous_features:\n",
        "    correlation = correlation_ratio(df['MedHousePrice'].values, df[continuous_feature].values)\n",
        "    print(f\"Correlation ratio between {'MedHousePrice'} and {continuous_feature}: {correlation}\")"
      ],
      "metadata": {
        "colab": {
          "base_uri": "https://localhost:8080/"
        },
        "id": "NyUeq9ZxX4xg",
        "outputId": "360499ff-2bb9-4546-f7f9-2f5cc0d3fdda"
      },
      "execution_count": 82,
      "outputs": [
        {
          "output_type": "stream",
          "name": "stdout",
          "text": [
            "Correlation ratio between MedHousePrice and MedInc: 0.9999048619743856\n",
            "Correlation ratio between MedHousePrice and HouseAge: 0.9950616020879186\n",
            "Correlation ratio between MedHousePrice and AveRooms: 0.9970333031770419\n",
            "Correlation ratio between MedHousePrice and AveBedrms: 0.9802036544263516\n",
            "Correlation ratio between MedHousePrice and Population: 0.9917444859284377\n",
            "Correlation ratio between MedHousePrice and AveOccup: 0.8837291598503861\n",
            "Correlation ratio between MedHousePrice and Latitude: 0.9983772101993797\n",
            "Correlation ratio between MedHousePrice and Longitude: 0.987732929851443\n"
          ]
        }
      ]
    },
    {
      "cell_type": "code",
      "source": [
        "\n",
        "# Scaling the training data and transforming test data\n",
        "scaler = StandardScaler()\n",
        "scaler.fit(X_train)\n",
        "X_train_scaled = scaler.transform(X_train)\n",
        "X_test_scaled = scaler.transform(X_test)\n"
      ],
      "metadata": {
        "id": "aoYHFQ4G5QEu"
      },
      "execution_count": 83,
      "outputs": []
    },
    {
      "cell_type": "code",
      "source": [
        "# Removing 70% Labels to explore semi supervised learning\n",
        "rng = np.random.RandomState(42)\n",
        "random_unlabeled_points = rng.rand(y_train.shape[0]) < 0.7\n",
        "y_labeled = np.copy(y_train)\n",
        "y_labeled[random_unlabeled_points] = -1"
      ],
      "metadata": {
        "id": "9tG6phPM6R63"
      },
      "execution_count": 84,
      "outputs": []
    },
    {
      "cell_type": "code",
      "source": [
        "y_labeled"
      ],
      "metadata": {
        "colab": {
          "base_uri": "https://localhost:8080/"
        },
        "id": "jHtq9Ezf6v6t",
        "outputId": "5d88d409-2d1f-4b22-db40-1fc50859d553"
      },
      "execution_count": 85,
      "outputs": [
        {
          "output_type": "execute_result",
          "data": {
            "text/plain": [
              "array([-1,  1,  2, ..., -1,  3, -1])"
            ]
          },
          "metadata": {},
          "execution_count": 85
        }
      ]
    },
    {
      "cell_type": "code",
      "source": [
        "# Parameters for hyperparameter tuning\n",
        "# Logistic Regression without PCA with l1 Regularization\n",
        "param_grid = {'C': [0.1, 1, 10, 100],\n",
        "              'max_iter': [3000, 4000, 5000]}\n",
        "\n",
        "# Initialising Logistic Regression\n",
        "\n",
        "logistic = LogisticRegression(penalty='l1',solver='liblinear')\n",
        "\n",
        "grid_search = GridSearchCV(logistic, param_grid, cv=5)\n",
        "grid_search.fit(X_train_scaled, y_labeled)\n",
        "\n",
        "best_logistic = grid_search.best_estimator_\n",
        "\n",
        "# Initialize SelfTrainingClassifier with LogisticRegression\n",
        "# SelfTrainingClassifier is used for self Learning. It converts supervised learning models to semi supervised model\n",
        "self_training_clf = SelfTrainingClassifier(best_logistic)\n",
        "\n",
        "self_training_clf.fit(X_train_scaled, y_labeled)\n",
        "\n",
        "predicted_labels_without_pca = self_training_clf.predict(X_test_scaled)\n",
        "labeled_indices = y_labeled != -1\n",
        "\n",
        "# Accuracy Measures\n",
        "accuracy = accuracy_score(y_test, predicted_labels_without_pca)\n",
        "print(f\"Accuracy on labeled data: {accuracy:.4f}\")\n",
        "\n",
        "precision = precision_score(y_test, predicted_labels_without_pca, average='weighted')  # You can change the averaging strategy\n",
        "print(f\"Precision: {precision:.4f}\")\n",
        "\n",
        "recall = recall_score(y_test, predicted_labels_without_pca, average='weighted')  # You can change the averaging strategy\n",
        "print(f\"Recall: {recall:.4f}\")\n",
        "\n",
        "f1 = f1_score(y_test, predicted_labels_without_pca, average='weighted')  # You can change the averaging strategy\n",
        "print(f\"F1-score: {f1:.4f}\")"
      ],
      "metadata": {
        "colab": {
          "base_uri": "https://localhost:8080/"
        },
        "id": "JD-SmBfe606r",
        "outputId": "10736557-05e1-4f4b-fb16-5e4d90dc0195"
      },
      "execution_count": 86,
      "outputs": [
        {
          "output_type": "stream",
          "name": "stdout",
          "text": [
            "Accuracy on labeled data: 0.6652\n",
            "Precision: 0.6156\n",
            "Recall: 0.6652\n",
            "F1-score: 0.6125\n"
          ]
        }
      ]
    },
    {
      "cell_type": "code",
      "source": [
        "print(\"Confusion Matrix for Logistic Regression without PCA with l1 Regularization\")\n",
        "conf_mat_without_pca = confusion_matrix(y_test, predicted_labels_without_pca)\n",
        "conf_mat_without_pca\n"
      ],
      "metadata": {
        "colab": {
          "base_uri": "https://localhost:8080/"
        },
        "id": "J0sQw9TydU3Y",
        "outputId": "26e7198b-01e3-4eec-f209-20f71e63d5af"
      },
      "execution_count": 87,
      "outputs": [
        {
          "output_type": "stream",
          "name": "stdout",
          "text": [
            "Confusion Matrix for Logistic Regression without PCA with l1 Regularization\n"
          ]
        },
        {
          "output_type": "execute_result",
          "data": {
            "text/plain": [
              "array([[1081,  442,    0,    1],\n",
              "       [ 210, 1623,    0,    4],\n",
              "       [  12,  499,    0,    5],\n",
              "       [   2,  207,    0,   42]])"
            ]
          },
          "metadata": {},
          "execution_count": 87
        }
      ]
    },
    {
      "cell_type": "code",
      "source": [
        "# Parameters for hyperparameter tuning\n",
        "# Logistic Regression without PCA with l2 Regularization\n",
        "param_grid = {'C': [0.1, 1, 10, 100],\n",
        "              'max_iter': [3000, 4000, 5000]}\n",
        "\n",
        "logistic = LogisticRegression(penalty='l2')\n",
        "\n",
        "grid_search = GridSearchCV(logistic, param_grid, cv=5)\n",
        "grid_search.fit(X_train_scaled, y_labeled)\n",
        "\n",
        "best_logistic = grid_search.best_estimator_\n",
        "\n",
        "# Initialize SelfTrainingClassifier with Logistic Regression as the base estimator\n",
        "self_training_clf = SelfTrainingClassifier(best_logistic)\n",
        "\n",
        "self_training_clf.fit(X_train_scaled, y_labeled)\n",
        "\n",
        "predicted_labels_without_pca = self_training_clf.predict(X_test_scaled)\n",
        "labeled_indices = y_labeled != -1\n",
        "accuracy = accuracy_score(y_test, predicted_labels_without_pca)\n",
        "print(f\"Accuracy on labeled data: {accuracy:.4f}\")\n",
        "\n",
        "\n",
        "precision = precision_score(y_test, predicted_labels_without_pca, average='weighted')  # You can change the averaging strategy\n",
        "print(f\"Precision: {precision:.4f}\")\n",
        "\n",
        "# Recall\n",
        "recall = recall_score(y_test, predicted_labels_without_pca, average='weighted')  # You can change the averaging strategy\n",
        "print(f\"Recall: {recall:.4f}\")\n",
        "\n",
        "# F1-score\n",
        "f1 = f1_score(y_test, predicted_labels_without_pca, average='weighted')  # You can change the averaging strategy\n",
        "print(f\"F1-score: {f1:.4f}\")"
      ],
      "metadata": {
        "colab": {
          "base_uri": "https://localhost:8080/"
        },
        "id": "xvZHl8v0BT28",
        "outputId": "376a8000-3c07-4f5a-fd87-fe7ffa065dfb"
      },
      "execution_count": 88,
      "outputs": [
        {
          "output_type": "stream",
          "name": "stdout",
          "text": [
            "Accuracy on labeled data: 0.6936\n",
            "Precision: 0.7032\n",
            "Recall: 0.6936\n",
            "F1-score: 0.6547\n"
          ]
        }
      ]
    },
    {
      "cell_type": "code",
      "source": [
        "print(\"Confusion Matrix for Logistic Regression without PCA with l2 Regularization\")\n",
        "conf_mat_without_pca = confusion_matrix(y_test, predicted_labels_without_pca)\n",
        "conf_mat_without_pca"
      ],
      "metadata": {
        "colab": {
          "base_uri": "https://localhost:8080/"
        },
        "id": "B4gbdN5Xdw3B",
        "outputId": "9728dfdb-c5c3-4ff8-9eed-36a16d97da4c"
      },
      "execution_count": 89,
      "outputs": [
        {
          "output_type": "stream",
          "name": "stdout",
          "text": [
            "Confusion Matrix for Logistic Regression without PCA with l2 Regularization\n"
          ]
        },
        {
          "output_type": "execute_result",
          "data": {
            "text/plain": [
              "array([[1152,  371,    0,    1],\n",
              "       [ 250, 1573,    3,   11],\n",
              "       [  15,  442,   21,   38],\n",
              "       [   2,  124,    8,  117]])"
            ]
          },
          "metadata": {},
          "execution_count": 89
        }
      ]
    },
    {
      "cell_type": "code",
      "source": [
        "# Perform PCA on training data\n",
        "pca = PCA(n_components=0.99)\n",
        "\n",
        "# Fit PCA on the scaled training data\n",
        "pca.fit(X_train_scaled)\n",
        "\n",
        "X_train_pca = pca.transform(X_train_scaled)\n",
        "X_test_pca = pca.transform(X_test_scaled)"
      ],
      "metadata": {
        "id": "MG81MMEj7UEa"
      },
      "execution_count": 90,
      "outputs": []
    },
    {
      "cell_type": "code",
      "source": [
        "y_labeled"
      ],
      "metadata": {
        "colab": {
          "base_uri": "https://localhost:8080/"
        },
        "id": "qUBKo-yd9H6W",
        "outputId": "48204890-d4d2-4fe9-f351-024eb98ac103"
      },
      "execution_count": 91,
      "outputs": [
        {
          "output_type": "execute_result",
          "data": {
            "text/plain": [
              "array([-1,  1,  2, ..., -1,  3, -1])"
            ]
          },
          "metadata": {},
          "execution_count": 91
        }
      ]
    },
    {
      "cell_type": "code",
      "source": [
        "# Parameters for hyperparameter tuning\n",
        "# Logistic Regression with PCA with l2 Regularization\n",
        "param_grid = {'C': [0.1, 1, 10, 100],\n",
        "              'max_iter': [3000, 4000, 5000]}\n",
        "\n",
        "logistic = LogisticRegression(penalty='l2')\n",
        "\n",
        "grid_search = GridSearchCV(logistic, param_grid)\n",
        "grid_search.fit(X_train_pca, y_labeled)\n",
        "\n",
        "best_logistic = grid_search.best_estimator_\n",
        "\n",
        "self_training_clf_pca = SelfTrainingClassifier(best_logistic)\n",
        "\n",
        "self_training_clf_pca.fit(X_train_pca, y_labeled)\n",
        "\n",
        "predicted_labels_with_pca = self_training_clf_pca.predict(X_test_pca)\n",
        "labeled_indices = y_labeled != -1\n",
        "accuracy = accuracy_score(y_test, predicted_labels_with_pca)\n",
        "print(f\"Accuracy on labeled data: {accuracy:.4f}\")\n",
        "\n",
        "\n",
        "precision = precision_score(y_test, predicted_labels_with_pca, average='weighted')  # You can change the averaging strategy\n",
        "print(f\"Precision: {precision:.4f}\")\n",
        "\n",
        "# Recall\n",
        "recall = recall_score(y_test, predicted_labels_with_pca, average='weighted')  # You can change the averaging strategy\n",
        "print(f\"Recall: {recall:.4f}\")\n",
        "\n",
        "# F1-score\n",
        "f1 = f1_score(y_test, predicted_labels_with_pca, average='weighted')  # You can change the averaging strategy\n",
        "print(f\"F1-score: {f1:.4f}\")"
      ],
      "metadata": {
        "colab": {
          "base_uri": "https://localhost:8080/"
        },
        "id": "W8Vqhbo985Nh",
        "outputId": "5f556013-3581-4cfe-cdc9-aa711b87e5bc"
      },
      "execution_count": 92,
      "outputs": [
        {
          "output_type": "stream",
          "name": "stdout",
          "text": [
            "Accuracy on labeled data: 0.6919\n",
            "Precision: 0.7028\n",
            "Recall: 0.6919\n",
            "F1-score: 0.6526\n"
          ]
        }
      ]
    },
    {
      "cell_type": "code",
      "source": [
        "print(\"Confusion Matrix for Logistic Regression with PCA with l2 Regularization\")\n",
        "conf_mat_with_pca = confusion_matrix(y_test, predicted_labels_with_pca)\n",
        "conf_mat_with_pca"
      ],
      "metadata": {
        "colab": {
          "base_uri": "https://localhost:8080/"
        },
        "id": "MV7fh8Kid50q",
        "outputId": "41fcc10e-6be6-4474-c968-a0d6aede183c"
      },
      "execution_count": 93,
      "outputs": [
        {
          "output_type": "stream",
          "name": "stdout",
          "text": [
            "Confusion Matrix for Logistic Regression with PCA with l2 Regularization\n"
          ]
        },
        {
          "output_type": "execute_result",
          "data": {
            "text/plain": [
              "array([[1149,  374,    0,    1],\n",
              "       [ 253, 1571,    3,   10],\n",
              "       [  17,  440,   20,   39],\n",
              "       [   2,  126,    7,  116]])"
            ]
          },
          "metadata": {},
          "execution_count": 93
        }
      ]
    },
    {
      "cell_type": "code",
      "source": [
        "# Parameters for hyperparameter tuning\n",
        "# Logistic Regression with PCA with l1 Regularization\n",
        "param_grid = {'C': [0.1, 1, 10, 100],\n",
        "              'max_iter': [3000, 4000, 5000]}\n",
        "\n",
        "logistic = LogisticRegression(penalty='l1',solver='liblinear')\n",
        "\n",
        "grid_search = GridSearchCV(logistic, param_grid)\n",
        "grid_search.fit(X_train_pca, y_labeled)\n",
        "\n",
        "best_logistic = grid_search.best_estimator_\n",
        "\n",
        "self_training_clf_pca = SelfTrainingClassifier(best_logistic)\n",
        "\n",
        "self_training_clf_pca.fit(X_train_pca, y_labeled)\n",
        "\n",
        "predicted_labels_with_pca = self_training_clf_pca.predict(X_test_pca)\n",
        "labeled_indices = y_labeled != -1\n",
        "accuracy = accuracy_score(y_test, predicted_labels_with_pca)\n",
        "print(f\"Accuracy on labeled data: {accuracy:.4f}\")\n",
        "\n",
        "precision = precision_score(y_test, predicted_labels_with_pca, average='macro', zero_division=0)  # You can change the averaging strategy\n",
        "print(f\"Precision: {precision:.4f}\")\n",
        "\n",
        "# Recall\n",
        "recall = recall_score(y_test, predicted_labels_with_pca, average='macro', zero_division=0)  # You can change the averaging strategy\n",
        "print(f\"Recall: {recall:.4f}\")\n",
        "\n",
        "# F1-score\n",
        "f1 = f1_score(y_test, predicted_labels_with_pca, average='macro', zero_division=0)  # You can change the averaging strategy\n",
        "print(f\"F1-score: {f1:.4f}\")"
      ],
      "metadata": {
        "colab": {
          "base_uri": "https://localhost:8080/"
        },
        "id": "mkwECSkf-F4A",
        "outputId": "f532e902-c0a2-4f3b-f9f4-4e0144bdbdbc"
      },
      "execution_count": 94,
      "outputs": [
        {
          "output_type": "stream",
          "name": "stdout",
          "text": [
            "Accuracy on labeled data: 0.6536\n",
            "Precision: 0.5519\n",
            "Recall: 0.4096\n",
            "F1-score: 0.3890\n"
          ]
        }
      ]
    },
    {
      "cell_type": "code",
      "source": [
        "print(\"Confusion Matrix for Logistic Regression with PCA with l1 Regularization\")\n",
        "conf_mat_with_pca = confusion_matrix(y_test, predicted_labels_with_pca)\n",
        "conf_mat_with_pca"
      ],
      "metadata": {
        "colab": {
          "base_uri": "https://localhost:8080/"
        },
        "id": "U3fDw4gVd_cl",
        "outputId": "4c133dcb-0c4a-402f-d70b-150a2b55acad"
      },
      "execution_count": 95,
      "outputs": [
        {
          "output_type": "stream",
          "name": "stdout",
          "text": [
            "Confusion Matrix for Logistic Regression with PCA with l1 Regularization\n"
          ]
        },
        {
          "output_type": "execute_result",
          "data": {
            "text/plain": [
              "array([[1088,  436,    0,    0],\n",
              "       [ 241, 1596,    0,    0],\n",
              "       [  17,  496,    0,    3],\n",
              "       [   4,  233,    0,   14]])"
            ]
          },
          "metadata": {},
          "execution_count": 95
        }
      ]
    },
    {
      "cell_type": "code",
      "source": [
        "# SVC with rbf kernel without pca\n",
        "svc = SVC(probability=True, gamma=\"auto\",kernel='rbf',C=1.0)\n",
        "\n",
        "self_training_model = SelfTrainingClassifier(svc)\n",
        "\n",
        "self_training_model.fit(X_train_scaled, y_labeled)\n",
        "\n",
        "predicted_labels_without_pca = self_training_model.predict(X_test_scaled)\n",
        "labeled_indices = y_labeled != -1\n",
        "accuracy = accuracy_score(y_test, predicted_labels_without_pca)\n",
        "print(f\"Accuracy on labeled data: {accuracy:.4f}\")\n",
        "\n",
        "precision = precision_score(y_test, predicted_labels_without_pca, average='weighted')\n",
        "print(f\"Precision: {precision:.4f}\")\n",
        "\n",
        "recall = recall_score(y_test, predicted_labels_without_pca, average='weighted')\n",
        "print(f\"Recall: {recall:.4f}\")\n",
        "\n",
        "f1 = f1_score(y_test, predicted_labels_without_pca, average='weighted')\n",
        "print(f\"F1-score: {f1:.4f}\")"
      ],
      "metadata": {
        "colab": {
          "base_uri": "https://localhost:8080/"
        },
        "id": "9XCJzlX3H5zq",
        "outputId": "37caf846-5afd-4735-edc8-9867f0ece0b7"
      },
      "execution_count": 96,
      "outputs": [
        {
          "output_type": "stream",
          "name": "stdout",
          "text": [
            "Accuracy on labeled data: 0.7154\n",
            "Precision: 0.7152\n",
            "Recall: 0.7154\n",
            "F1-score: 0.6958\n"
          ]
        }
      ]
    },
    {
      "cell_type": "code",
      "source": [
        "print(\"Confusion Matrix for SVC with rbf kernel without pca\")\n",
        "conf_mat_without_pca = confusion_matrix(y_test, predicted_labels_without_pca)\n",
        "conf_mat_without_pca"
      ],
      "metadata": {
        "colab": {
          "base_uri": "https://localhost:8080/"
        },
        "id": "vMnGS-9DeQYM",
        "outputId": "d4d1db3f-b826-492a-a097-58aed3aacd2b"
      },
      "execution_count": 97,
      "outputs": [
        {
          "output_type": "stream",
          "name": "stdout",
          "text": [
            "Confusion Matrix for SVC with rbf kernel without pca\n"
          ]
        },
        {
          "output_type": "execute_result",
          "data": {
            "text/plain": [
              "array([[1185,  337,    1,    1],\n",
              "       [ 229, 1551,   49,    8],\n",
              "       [  18,  373,  101,   24],\n",
              "       [   2,  107,   26,  116]])"
            ]
          },
          "metadata": {},
          "execution_count": 97
        }
      ]
    },
    {
      "cell_type": "code",
      "source": [
        "# SVC with rbf kernel with pca\n",
        "svc = SVC(probability=True, gamma=\"auto\",kernel='rbf')\n",
        "\n",
        "self_training_model_pca = SelfTrainingClassifier(svc)\n",
        "\n",
        "self_training_model_pca.fit(X_train_pca, y_labeled)\n",
        "\n",
        "predicted_labels_with_pca = self_training_model_pca.predict(X_test_pca)\n",
        "labeled_indices = y_labeled != -1\n",
        "accuracy = accuracy_score(y_test, predicted_labels_with_pca)\n",
        "print(f\"Accuracy on labeled data: {accuracy:.4f}\")\n",
        "\n",
        "precision = precision_score(y_test, predicted_labels_with_pca, average='macro')\n",
        "print(f\"Precision: {precision:.4f}\")\n",
        "\n",
        "recall = recall_score(y_test, predicted_labels_with_pca, average='macro')\n",
        "print(f\"Recall: {recall:.4f}\")\n",
        "\n",
        "f1 = f1_score(y_test, predicted_labels_with_pca, average='macro')\n",
        "print(f\"F1-score: {f1:.4f}\")"
      ],
      "metadata": {
        "colab": {
          "base_uri": "https://localhost:8080/"
        },
        "id": "vmNSO3oCK7KV",
        "outputId": "5aa16696-33d7-4d8d-bab0-3d012327fbd9"
      },
      "execution_count": 98,
      "outputs": [
        {
          "output_type": "stream",
          "name": "stdout",
          "text": [
            "Accuracy on labeled data: 0.7086\n",
            "Precision: 0.7068\n",
            "Recall: 0.5646\n",
            "F1-score: 0.5968\n"
          ]
        }
      ]
    },
    {
      "cell_type": "code",
      "source": [
        "print(\"Confusion Matrix for SVC with rbf kernel with pca\")\n",
        "conf_mat_with_pca = confusion_matrix(y_test, predicted_labels_with_pca)\n",
        "conf_mat_with_pca"
      ],
      "metadata": {
        "colab": {
          "base_uri": "https://localhost:8080/"
        },
        "id": "XeBgvuZ1ef6N",
        "outputId": "c903ccf9-ffbe-48e2-d445-d5127cdccc4a"
      },
      "execution_count": 99,
      "outputs": [
        {
          "output_type": "stream",
          "name": "stdout",
          "text": [
            "Confusion Matrix for SVC with rbf kernel with pca\n"
          ]
        },
        {
          "output_type": "execute_result",
          "data": {
            "text/plain": [
              "array([[1176,  346,    1,    1],\n",
              "       [ 246, 1537,   47,    7],\n",
              "       [  20,  377,   95,   24],\n",
              "       [   2,  111,   21,  117]])"
            ]
          },
          "metadata": {},
          "execution_count": 99
        }
      ]
    },
    {
      "cell_type": "code",
      "source": [
        "# SVC with linear kernel without pca\n",
        "svc = SVC(probability=True, gamma=\"auto\",kernel='linear',C=1.0)\n",
        "\n",
        "self_training_model = SelfTrainingClassifier(svc)\n",
        "\n",
        "self_training_model.fit(X_train_scaled, y_labeled)\n",
        "\n",
        "predicted_labels_without_pca = self_training_model.predict(X_test_scaled)\n",
        "labeled_indices = y_labeled != -1\n",
        "accuracy = accuracy_score(y_test, predicted_labels_without_pca)\n",
        "print(f\"Accuracy on labeled data: {accuracy:.4f}\")\n",
        "\n",
        "precision = precision_score(y_test, predicted_labels_without_pca, average='macro')\n",
        "print(f\"Precision: {precision:.4f}\")\n",
        "\n",
        "recall = recall_score(y_test, predicted_labels_without_pca, average='macro')\n",
        "print(f\"Recall: {recall:.4f}\")\n",
        "\n",
        "f1 = f1_score(y_test, predicted_labels_without_pca, average='macro')\n",
        "print(f\"F1-score: {f1:.4f}\")"
      ],
      "metadata": {
        "colab": {
          "base_uri": "https://localhost:8080/"
        },
        "id": "N70zEcI5_0Is",
        "outputId": "84bf45a7-92f5-40b3-d0ea-2c9c87ef340e"
      },
      "execution_count": 100,
      "outputs": [
        {
          "output_type": "stream",
          "name": "stdout",
          "text": [
            "Accuracy on labeled data: 0.6999\n",
            "Precision: 0.6987\n",
            "Recall: 0.5403\n",
            "F1-score: 0.5495\n"
          ]
        }
      ]
    },
    {
      "cell_type": "code",
      "source": [
        "print(\"Confusion Matrix for SVC with linear kernel without pca\")\n",
        "conf_mat_without_pca = confusion_matrix(y_test, predicted_labels_without_pca)\n",
        "conf_mat_without_pca"
      ],
      "metadata": {
        "colab": {
          "base_uri": "https://localhost:8080/"
        },
        "id": "Zsif3cloeqWI",
        "outputId": "9259c21b-3ab0-4e3d-f3a3-9ad0d9e80cfc"
      },
      "execution_count": 101,
      "outputs": [
        {
          "output_type": "stream",
          "name": "stdout",
          "text": [
            "Confusion Matrix for SVC with linear kernel without pca\n"
          ]
        },
        {
          "output_type": "execute_result",
          "data": {
            "text/plain": [
              "array([[1144,  379,    0,    1],\n",
              "       [ 228, 1598,    2,    9],\n",
              "       [  14,  451,   22,   29],\n",
              "       [   2,  110,   14,  125]])"
            ]
          },
          "metadata": {},
          "execution_count": 101
        }
      ]
    },
    {
      "cell_type": "code",
      "source": [
        "# SVC with linear kernel with pca\n",
        "svc = SVC(probability=True, gamma=\"auto\",kernel='linear')\n",
        "\n",
        "self_training_model_pca = SelfTrainingClassifier(svc)\n",
        "\n",
        "self_training_model_pca.fit(X_train_pca, y_labeled)\n",
        "\n",
        "predicted_labels_with_pca = self_training_model_pca.predict(X_test_pca)\n",
        "labeled_indices = y_labeled != -1\n",
        "accuracy = accuracy_score(y_test, predicted_labels_with_pca)\n",
        "print(f\"Accuracy on labeled data: {accuracy:.4f}\")\n",
        "\n",
        "precision = precision_score(y_test, predicted_labels_with_pca, average='macro')\n",
        "print(f\"Precision: {precision:.4f}\")\n",
        "\n",
        "recall = recall_score(y_test, predicted_labels_with_pca, average='macro')\n",
        "print(f\"Recall: {recall:.4f}\")\n",
        "\n",
        "f1 = f1_score(y_test, predicted_labels_with_pca, average='macro')\n",
        "print(f\"F1-score: {f1:.4f}\")"
      ],
      "metadata": {
        "colab": {
          "base_uri": "https://localhost:8080/"
        },
        "id": "Nw44JshHAGOb",
        "outputId": "1650d590-fa78-444d-af2f-f3a93847b223"
      },
      "execution_count": 102,
      "outputs": [
        {
          "output_type": "stream",
          "name": "stdout",
          "text": [
            "Accuracy on labeled data: 0.7030\n",
            "Precision: 0.7016\n",
            "Recall: 0.5485\n",
            "F1-score: 0.5626\n"
          ]
        }
      ]
    },
    {
      "cell_type": "code",
      "source": [
        "print(\"Confusion Matrix for SVC with linear kernel with pca\")\n",
        "conf_mat_with_pca = confusion_matrix(y_test, predicted_labels_with_pca)\n",
        "conf_mat_with_pca"
      ],
      "metadata": {
        "colab": {
          "base_uri": "https://localhost:8080/"
        },
        "id": "gh-aDrZKe2I2",
        "outputId": "3a61203d-5d0e-4959-f0ca-ed77b024c79f"
      },
      "execution_count": 103,
      "outputs": [
        {
          "output_type": "stream",
          "name": "stdout",
          "text": [
            "Confusion Matrix for SVC with linear kernel with pca\n"
          ]
        },
        {
          "output_type": "execute_result",
          "data": {
            "text/plain": [
              "array([[1150,  373,    0,    1],\n",
              "       [ 231, 1590,    7,    9],\n",
              "       [  14,  438,   35,   29],\n",
              "       [   2,  104,   18,  127]])"
            ]
          },
          "metadata": {},
          "execution_count": 103
        }
      ]
    },
    {
      "cell_type": "code",
      "source": [
        "# Random Forest with Hyperparametertuning without pca\n",
        "rf = RandomForestClassifier(n_estimators=100, random_state=42)\n",
        "\n",
        "param_grid = {\n",
        "    'n_estimators': [50, 100, 150],\n",
        "    'max_depth': [None, 5, 10, 15]\n",
        "}\n",
        "\n",
        "grid_search_without_pca = GridSearchCV(estimator=rf, param_grid=param_grid, cv=5)\n",
        "grid_search_without_pca.fit(X_train_scaled, y_labeled)\n",
        "best_rf_without_pca = grid_search_without_pca.best_estimator_\n",
        "\n",
        "\n",
        "self_training_model = SelfTrainingClassifier(best_rf_without_pca)\n",
        "\n",
        "# Fit the SelfTrainingClassifier on the data\n",
        "self_training_model.fit(X_train_scaled, y_labeled)\n",
        "\n",
        "predicted_labels_without_pca = self_training_model.predict(X_test_scaled)\n",
        "labeled_indices = y_labeled != -1\n",
        "accuracy = accuracy_score(y_test, predicted_labels_without_pca)\n",
        "print(\"Best Parameters without PCA:\", grid_search_without_pca.best_params_)\n",
        "\n",
        "accuracy = accuracy_score(y_test, predicted_labels_without_pca)\n",
        "print(f\"Accuracy on labeled data: {accuracy:.4f}\")\n",
        "\n",
        "precision = precision_score(y_test, predicted_labels_without_pca, average='macro')  # You can change the averaging strategy\n",
        "print(f\"Precision: {precision:.4f}\")\n",
        "\n",
        "# Recall\n",
        "recall = recall_score(y_test, predicted_labels_without_pca, average='macro')  # You can change the averaging strategy\n",
        "print(f\"Recall: {recall:.4f}\")\n",
        "\n",
        "# F1-score\n",
        "f1 = f1_score(y_test, predicted_labels_without_pca, average='macro')  # You can change the averaging strategy\n",
        "print(f\"F1-score: {f1:.4f}\")\n",
        "\n",
        "\n"
      ],
      "metadata": {
        "colab": {
          "base_uri": "https://localhost:8080/"
        },
        "id": "9xSNCz-jMZbF",
        "outputId": "b25c9442-5e11-4548-a5b1-489e50b747d7"
      },
      "execution_count": 104,
      "outputs": [
        {
          "output_type": "stream",
          "name": "stdout",
          "text": [
            "Best Parameters without PCA: {'max_depth': 5, 'n_estimators': 50}\n",
            "Accuracy on labeled data: 0.6945\n",
            "Precision: 0.6996\n",
            "Recall: 0.5093\n",
            "F1-score: 0.5381\n"
          ]
        }
      ]
    },
    {
      "cell_type": "code",
      "source": [
        "print(\"Confusion Matrix for Random Forest with Hyperparametertuning without pca\")\n",
        "conf_mat_without_pca = confusion_matrix(y_test, predicted_labels_without_pca)\n",
        "conf_mat_without_pca"
      ],
      "metadata": {
        "colab": {
          "base_uri": "https://localhost:8080/"
        },
        "id": "pLTzjZkUfBKI",
        "outputId": "481d9066-a627-43a6-a7f3-8999084e81e2"
      },
      "execution_count": 105,
      "outputs": [
        {
          "output_type": "stream",
          "name": "stdout",
          "text": [
            "Confusion Matrix for Random Forest with Hyperparametertuning without pca\n"
          ]
        },
        {
          "output_type": "execute_result",
          "data": {
            "text/plain": [
              "array([[1236,  287,    1,    0],\n",
              "       [ 331, 1485,   21,    0],\n",
              "       [  24,  403,   80,    9],\n",
              "       [   4,  122,   59,   66]])"
            ]
          },
          "metadata": {},
          "execution_count": 105
        }
      ]
    },
    {
      "cell_type": "code",
      "source": [
        "# Random Forest with Hyperparametertuning with pca\n",
        "rf_pca = RandomForestClassifier(n_estimators=100, random_state=42)\n",
        "\n",
        "grid_search_with_pca = GridSearchCV(estimator=rf_pca, param_grid=param_grid, cv=5)\n",
        "grid_search_with_pca.fit(X_train_pca, y_labeled)\n",
        "best_rf_with_pca = grid_search_with_pca.best_estimator_\n",
        "\n",
        "\n",
        "\n",
        "self_training_model_pca = SelfTrainingClassifier(best_rf_with_pca)\n",
        "\n",
        "self_training_model_pca.fit(X_train_pca, y_labeled)\n",
        "predicted_labels_with_pca = self_training_model_pca.predict(X_test_pca)\n",
        "labeled_indices = y_labeled != -1\n",
        "accuracy = accuracy_score(y_test, predicted_labels_with_pca)\n",
        "print(f\"Accuracy on labeled data: {accuracy:.4f}\")\n",
        "\n",
        "\n",
        "precision = precision_score(y_test, predicted_labels_with_pca, average='macro')  # You can change the averaging strategy\n",
        "print(f\"Precision: {precision:.4f}\")\n",
        "\n",
        "# Recall\n",
        "recall = recall_score(y_test, predicted_labels_with_pca, average='macro')  # You can change the averaging strategy\n",
        "print(f\"Recall: {recall:.4f}\")\n",
        "\n",
        "# F1-score\n",
        "f1 = f1_score(y_test, predicted_labels_with_pca, average='macro')  # You can change the averaging strategy\n",
        "print(f\"F1-score: {f1:.4f}\")\n"
      ],
      "metadata": {
        "colab": {
          "base_uri": "https://localhost:8080/"
        },
        "id": "OYrEssLwOHnS",
        "outputId": "3c736db4-7ea0-47a4-9b79-ec59dc3d994a"
      },
      "execution_count": 106,
      "outputs": [
        {
          "output_type": "stream",
          "name": "stdout",
          "text": [
            "Accuracy on labeled data: 0.6853\n",
            "Precision: 0.6867\n",
            "Recall: 0.5256\n",
            "F1-score: 0.5489\n"
          ]
        }
      ]
    },
    {
      "cell_type": "code",
      "source": [
        "print(\"Confusion Matrix for Random Forest with Hyperparametertuning with pca\")\n",
        "conf_mat_with_pca = confusion_matrix(y_test, predicted_labels_with_pca)\n",
        "conf_mat_with_pca"
      ],
      "metadata": {
        "colab": {
          "base_uri": "https://localhost:8080/"
        },
        "id": "UY3ANL7PfNfk",
        "outputId": "dd1dfdf6-2854-44e8-b051-6f271c79c450"
      },
      "execution_count": 107,
      "outputs": [
        {
          "output_type": "stream",
          "name": "stdout",
          "text": [
            "Confusion Matrix for Random Forest with Hyperparametertuning with pca\n"
          ]
        },
        {
          "output_type": "execute_result",
          "data": {
            "text/plain": [
              "array([[1177,  347,    0,    0],\n",
              "       [ 313, 1494,   23,    7],\n",
              "       [  19,  416,   55,   26],\n",
              "       [   4,  128,   16,  103]])"
            ]
          },
          "metadata": {},
          "execution_count": 107
        }
      ]
    },
    {
      "cell_type": "code",
      "source": [
        "# Descision Tree with Hyperparametertuning without pca\n",
        "dt = DecisionTreeClassifier(random_state=42)\n",
        "\n",
        "# Define hyperparameter grid for Decision Tree\n",
        "param_grid = {'max_depth':[3,5,7,10,15],\n",
        "          'min_samples_leaf':[3,5,10,15,20],\n",
        "          'min_samples_split':[8,10,12,18,20,16],\n",
        "          'criterion':['gini','entropy']}\n",
        "\n",
        "\n",
        "# Apply GridSearchCV for hyperparameter tuning\n",
        "grid_search = GridSearchCV(estimator=dt, param_grid=param_grid, cv=5)\n",
        "grid_search.fit(X_train_scaled, y_labeled)\n",
        "best_dt = grid_search.best_estimator_\n",
        "\n",
        "# Create SelfTrainingClassifier with the best Decision Tree estimator\n",
        "self_training_model = SelfTrainingClassifier(best_dt)\n",
        "\n",
        "# Fit the SelfTrainingClassifier on the data\n",
        "self_training_model.fit(X_train_scaled, y_labeled)\n",
        "\n",
        "# Predict labels on the test set\n",
        "predicted_labels = self_training_model.predict(X_test_scaled)\n",
        "\n",
        "# Calculate and print evaluation metrics\n",
        "print(\"Best Parameters for Decision Tree:\", grid_search.best_params_)\n",
        "\n",
        "accuracy = accuracy_score(y_test, predicted_labels)\n",
        "print(f\"Accuracy on labeled data: {accuracy:.4f}\")\n",
        "\n",
        "precision = precision_score(y_test, predicted_labels, average='macro')\n",
        "print(f\"Precision: {precision:.4f}\")\n",
        "\n",
        "recall = recall_score(y_test, predicted_labels, average='macro')\n",
        "print(f\"Recall: {recall:.4f}\")\n",
        "\n",
        "f1 = f1_score(y_test, predicted_labels, average='macro')\n",
        "print(f\"F1-score: {f1:.4f}\")\n"
      ],
      "metadata": {
        "colab": {
          "base_uri": "https://localhost:8080/"
        },
        "id": "kHmDn7vpHShe",
        "outputId": "4c523a54-e81c-4bec-eabd-d5b7985d37a9"
      },
      "execution_count": 108,
      "outputs": [
        {
          "output_type": "stream",
          "name": "stdout",
          "text": [
            "Best Parameters for Decision Tree: {'criterion': 'entropy', 'max_depth': 5, 'min_samples_leaf': 3, 'min_samples_split': 8}\n",
            "Accuracy on labeled data: 0.6548\n",
            "Precision: 0.6252\n",
            "Recall: 0.5795\n",
            "F1-score: 0.5960\n"
          ]
        }
      ]
    },
    {
      "cell_type": "code",
      "source": [
        "print(\"Confusion Matrix for Decision Tree with Hyperparametertuning without pca\")\n",
        "conf_mat_without_pca = confusion_matrix(y_test, predicted_labels)\n",
        "conf_mat_without_pca"
      ],
      "metadata": {
        "colab": {
          "base_uri": "https://localhost:8080/"
        },
        "id": "Llr8_QbOfV4v",
        "outputId": "77449356-f3ba-45c9-f63d-14bce9bb7383"
      },
      "execution_count": 109,
      "outputs": [
        {
          "output_type": "stream",
          "name": "stdout",
          "text": [
            "Confusion Matrix for Decision Tree with Hyperparametertuning without pca\n"
          ]
        },
        {
          "output_type": "execute_result",
          "data": {
            "text/plain": [
              "array([[1219,  286,   18,    1],\n",
              "       [ 502, 1149,  177,    9],\n",
              "       [  31,  226,  216,   43],\n",
              "       [   8,   49,   75,  119]])"
            ]
          },
          "metadata": {},
          "execution_count": 109
        }
      ]
    },
    {
      "cell_type": "code",
      "source": [
        "# Descision Tree with Hyperparametertuning with pca\n",
        "dt = DecisionTreeClassifier(random_state=42)\n",
        "\n",
        "# Define hyperparameter grid for Decision Tree\n",
        "param_grid = {'max_depth':[3,5,7,10,15],\n",
        "          'min_samples_leaf':[3,5,10,15,20],\n",
        "          'min_samples_split':[8,10,12,18,20,16],\n",
        "          'criterion':['gini','entropy']}\n",
        "\n",
        "\n",
        "# Apply GridSearchCV for hyperparameter tuning\n",
        "grid_search = GridSearchCV(estimator=dt, param_grid=param_grid, cv=5)\n",
        "grid_search.fit(X_train_pca, y_labeled)\n",
        "best_dt = grid_search.best_estimator_\n",
        "\n",
        "# Create SelfTrainingClassifier with the best Decision Tree estimator\n",
        "self_training_model = SelfTrainingClassifier(best_dt)\n",
        "\n",
        "# Fit the SelfTrainingClassifier on the data\n",
        "self_training_model.fit(X_train_pca, y_labeled)\n",
        "\n",
        "# Predict labels on the test set\n",
        "predicted_labels = self_training_model.predict(X_test_pca)\n",
        "\n",
        "# Calculate and print evaluation metrics\n",
        "print(\"Best Parameters for Decision Tree:\", grid_search.best_params_)\n",
        "\n",
        "accuracy = accuracy_score(y_test, predicted_labels)\n",
        "print(f\"Accuracy on labeled data: {accuracy:.4f}\")\n",
        "\n",
        "precision = precision_score(y_test, predicted_labels, average='macro')\n",
        "print(f\"Precision: {precision:.4f}\")\n",
        "\n",
        "recall = recall_score(y_test, predicted_labels, average='macro')\n",
        "print(f\"Recall: {recall:.4f}\")\n",
        "\n",
        "f1 = f1_score(y_test, predicted_labels, average='macro')\n",
        "print(f\"F1-score: {f1:.4f}\")\n"
      ],
      "metadata": {
        "colab": {
          "base_uri": "https://localhost:8080/"
        },
        "id": "vdJpMVdiV9VA",
        "outputId": "21c19f0c-5ca8-4eb8-e0bd-a1f35be26267"
      },
      "execution_count": 110,
      "outputs": [
        {
          "output_type": "stream",
          "name": "stdout",
          "text": [
            "Best Parameters for Decision Tree: {'criterion': 'gini', 'max_depth': 3, 'min_samples_leaf': 3, 'min_samples_split': 8}\n",
            "Accuracy on labeled data: 0.6422\n",
            "Precision: 0.6367\n",
            "Recall: 0.4898\n",
            "F1-score: 0.5116\n"
          ]
        }
      ]
    },
    {
      "cell_type": "code",
      "source": [
        "print(\"Confusion Matrix for Decision Tree with Hyperparametertuning with pca\")\n",
        "conf_mat_with_pca = confusion_matrix(y_test, predicted_labels)\n",
        "conf_mat_with_pca"
      ],
      "metadata": {
        "colab": {
          "base_uri": "https://localhost:8080/"
        },
        "id": "qz8WGN_Gfi2G",
        "outputId": "24233aaa-59ee-4cf3-b606-1e1e91c2b900"
      },
      "execution_count": 111,
      "outputs": [
        {
          "output_type": "stream",
          "name": "stdout",
          "text": [
            "Confusion Matrix for Decision Tree with Hyperparametertuning with pca\n"
          ]
        },
        {
          "output_type": "execute_result",
          "data": {
            "text/plain": [
              "array([[1069,  454,    0,    1],\n",
              "       [ 376, 1437,   15,    9],\n",
              "       [  51,  390,   50,   25],\n",
              "       [   7,  115,   34,   95]])"
            ]
          },
          "metadata": {},
          "execution_count": 111
        }
      ]
    },
    {
      "cell_type": "code",
      "source": [],
      "metadata": {
        "id": "dz_oPHAdl-a5"
      },
      "execution_count": 111,
      "outputs": []
    }
  ]
}